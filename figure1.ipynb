{
 "cells": [
  {
   "cell_type": "code",
   "execution_count": 120,
   "metadata": {},
   "outputs": [
    {
     "data": {
      "text/html": [
       "<div>\n",
       "<style scoped>\n",
       "    .dataframe tbody tr th:only-of-type {\n",
       "        vertical-align: middle;\n",
       "    }\n",
       "\n",
       "    .dataframe tbody tr th {\n",
       "        vertical-align: top;\n",
       "    }\n",
       "\n",
       "    .dataframe thead th {\n",
       "        text-align: right;\n",
       "    }\n",
       "</style>\n",
       "<table border=\"1\" class=\"dataframe\">\n",
       "  <thead>\n",
       "    <tr style=\"text-align: right;\">\n",
       "      <th></th>\n",
       "      <th>Year_of_publication</th>\n",
       "      <th>Number_of_citations</th>\n",
       "      <th>index</th>\n",
       "      <th>global</th>\n",
       "      <th>wrapper</th>\n",
       "      <th>local</th>\n",
       "      <th>chain_of_seeds</th>\n",
       "      <th>technology</th>\n",
       "      <th>age</th>\n",
       "      <th>citation_per_year</th>\n",
       "    </tr>\n",
       "  </thead>\n",
       "  <tbody>\n",
       "    <tr>\n",
       "      <th>0</th>\n",
       "      <td>2001</td>\n",
       "      <td>1093.0</td>\n",
       "      <td>hashing</td>\n",
       "      <td>seed</td>\n",
       "      <td>N</td>\n",
       "      <td>Global</td>\n",
       "      <td>N</td>\n",
       "      <td>DNA</td>\n",
       "      <td>19</td>\n",
       "      <td>57.526316</td>\n",
       "    </tr>\n",
       "    <tr>\n",
       "      <th>1</th>\n",
       "      <td>2002</td>\n",
       "      <td>6935.0</td>\n",
       "      <td>hashing</td>\n",
       "      <td>seed</td>\n",
       "      <td>N</td>\n",
       "      <td>Non-DP heuristic</td>\n",
       "      <td>Y</td>\n",
       "      <td>DNA</td>\n",
       "      <td>18</td>\n",
       "      <td>385.277778</td>\n",
       "    </tr>\n",
       "    <tr>\n",
       "      <th>2</th>\n",
       "      <td>2003</td>\n",
       "      <td>1339.0</td>\n",
       "      <td>hashing</td>\n",
       "      <td>seed</td>\n",
       "      <td>Y</td>\n",
       "      <td>Local</td>\n",
       "      <td>N</td>\n",
       "      <td>DNA</td>\n",
       "      <td>17</td>\n",
       "      <td>78.764706</td>\n",
       "    </tr>\n",
       "    <tr>\n",
       "      <th>3</th>\n",
       "      <td>2005</td>\n",
       "      <td>1138.0</td>\n",
       "      <td>hashing</td>\n",
       "      <td>seed</td>\n",
       "      <td>N</td>\n",
       "      <td>Hamming</td>\n",
       "      <td>N</td>\n",
       "      <td>DNA</td>\n",
       "      <td>15</td>\n",
       "      <td>75.866667</td>\n",
       "    </tr>\n",
       "    <tr>\n",
       "      <th>4</th>\n",
       "      <td>2005</td>\n",
       "      <td>1139.0</td>\n",
       "      <td>hashing</td>\n",
       "      <td>seed</td>\n",
       "      <td>N</td>\n",
       "      <td>Global</td>\n",
       "      <td>Y</td>\n",
       "      <td>DNA</td>\n",
       "      <td>15</td>\n",
       "      <td>75.933333</td>\n",
       "    </tr>\n",
       "  </tbody>\n",
       "</table>\n",
       "</div>"
      ],
      "text/plain": [
       "   Year_of_publication  Number_of_citations    index global wrapper  \\\n",
       "0                 2001               1093.0  hashing   seed       N   \n",
       "1                 2002               6935.0  hashing   seed       N   \n",
       "2                 2003               1339.0  hashing   seed       Y   \n",
       "3                 2005               1138.0  hashing   seed       N   \n",
       "4                 2005               1139.0  hashing   seed       N   \n",
       "\n",
       "              local chain_of_seeds technology  age  citation_per_year  \n",
       "0            Global              N        DNA   19          57.526316  \n",
       "1  Non-DP heuristic              Y        DNA   18         385.277778  \n",
       "2             Local              N        DNA   17          78.764706  \n",
       "3           Hamming              N        DNA   15          75.866667  \n",
       "4            Global              Y        DNA   15          75.933333  "
      ]
     },
     "execution_count": 120,
     "metadata": {},
     "output_type": "execute_result"
    }
   ],
   "source": [
    "import pandas as pd\n",
    "data=pd.read_csv('Table1.csv')\n",
    "data['age']=2019-data['Year_of_publication']+1\n",
    "data['citation_per_year']=data['Number_of_citations']/data['age']\n",
    "data.head()"
   ]
  },
  {
   "cell_type": "code",
   "execution_count": 119,
   "metadata": {},
   "outputs": [
    {
     "data": {
      "text/html": [
       "<div>\n",
       "<style scoped>\n",
       "    .dataframe tbody tr th:only-of-type {\n",
       "        vertical-align: middle;\n",
       "    }\n",
       "\n",
       "    .dataframe tbody tr th {\n",
       "        vertical-align: top;\n",
       "    }\n",
       "\n",
       "    .dataframe thead th {\n",
       "        text-align: right;\n",
       "    }\n",
       "</style>\n",
       "<table border=\"1\" class=\"dataframe\">\n",
       "  <thead>\n",
       "    <tr style=\"text-align: right;\">\n",
       "      <th></th>\n",
       "      <th>technology</th>\n",
       "      <th>counts</th>\n",
       "    </tr>\n",
       "  </thead>\n",
       "  <tbody>\n",
       "    <tr>\n",
       "      <th>0</th>\n",
       "      <td>DNA</td>\n",
       "      <td>0.717391</td>\n",
       "    </tr>\n",
       "    <tr>\n",
       "      <th>1</th>\n",
       "      <td>RNA-Seq</td>\n",
       "      <td>0.184783</td>\n",
       "    </tr>\n",
       "    <tr>\n",
       "      <th>2</th>\n",
       "      <td>Bisulfite</td>\n",
       "      <td>0.065217</td>\n",
       "    </tr>\n",
       "    <tr>\n",
       "      <th>3</th>\n",
       "      <td>DNA/RNA-Seq</td>\n",
       "      <td>0.021739</td>\n",
       "    </tr>\n",
       "    <tr>\n",
       "      <th>4</th>\n",
       "      <td>miRNA</td>\n",
       "      <td>0.010870</td>\n",
       "    </tr>\n",
       "  </tbody>\n",
       "</table>\n",
       "</div>"
      ],
      "text/plain": [
       "    technology    counts\n",
       "0          DNA  0.717391\n",
       "1      RNA-Seq  0.184783\n",
       "2    Bisulfite  0.065217\n",
       "3  DNA/RNA-Seq  0.021739\n",
       "4        miRNA  0.010870"
      ]
     },
     "execution_count": 119,
     "metadata": {},
     "output_type": "execute_result"
    }
   ],
   "source": [
    "value_counts=data['technology'].value_counts(normalize=True)\n",
    "data_technology = pd.DataFrame(value_counts)\n",
    "data_technology = data_technology.reset_index()\n",
    "data_technology.columns = ['technology', 'counts'] # change column names\n",
    "data_technology.head()"
   ]
  },
  {
   "cell_type": "code",
   "execution_count": 118,
   "metadata": {},
   "outputs": [
    {
     "data": {
      "image/png": "[encoded data removed]",
      "text/plain": [
       "<Figure size 432x288 with 1 Axes>"
      ]
     },
     "metadata": {},
     "output_type": "display_data"
    }
   ],
   "source": [
    "import matplotlib.pyplot as plt\n",
    "import seaborn as sns\n",
    "g=sns.set_style(\"white\")\n",
    "g=sns.set_context(\"talk\")\n",
    "g=sns.barplot(x=\"counts\", y=\"technology\", data=data_technology)\n",
    "g.set(xlabel='Percentage read alignment methods (%)', ylabel='Domain')\n",
    "g=sns.despine()\n",
    "#plt.show(g)\n",
    "plt.savefig(\"Figure_1_panels/technology_barplot.png\", bbox_inches='tight')"
   ]
  },
  {
   "cell_type": "code",
   "execution_count": 122,
   "metadata": {
    "scrolled": true
   },
   "outputs": [
    {
     "data": {
      "text/html": [
       "<div>\n",
       "<style scoped>\n",
       "    .dataframe tbody tr th:only-of-type {\n",
       "        vertical-align: middle;\n",
       "    }\n",
       "\n",
       "    .dataframe tbody tr th {\n",
       "        vertical-align: top;\n",
       "    }\n",
       "\n",
       "    .dataframe thead th {\n",
       "        text-align: right;\n",
       "    }\n",
       "</style>\n",
       "<table border=\"1\" class=\"dataframe\">\n",
       "  <thead>\n",
       "    <tr style=\"text-align: right;\">\n",
       "      <th></th>\n",
       "      <th>Year_of_publication</th>\n",
       "      <th>Number_of_citations</th>\n",
       "      <th>index</th>\n",
       "      <th>global</th>\n",
       "      <th>wrapper</th>\n",
       "      <th>local</th>\n",
       "      <th>chain_of_seeds</th>\n",
       "      <th>technology</th>\n",
       "      <th>age</th>\n",
       "      <th>citation_per_year</th>\n",
       "      <th>index2</th>\n",
       "    </tr>\n",
       "  </thead>\n",
       "  <tbody>\n",
       "    <tr>\n",
       "      <th>0</th>\n",
       "      <td>2001</td>\n",
       "      <td>1093.0</td>\n",
       "      <td>hashing</td>\n",
       "      <td>seed</td>\n",
       "      <td>N</td>\n",
       "      <td>Global</td>\n",
       "      <td>N</td>\n",
       "      <td>DNA</td>\n",
       "      <td>19</td>\n",
       "      <td>57.526316</td>\n",
       "      <td>hashing</td>\n",
       "    </tr>\n",
       "    <tr>\n",
       "      <th>1</th>\n",
       "      <td>2002</td>\n",
       "      <td>6935.0</td>\n",
       "      <td>hashing</td>\n",
       "      <td>seed</td>\n",
       "      <td>N</td>\n",
       "      <td>Non-DP heuristic</td>\n",
       "      <td>Y</td>\n",
       "      <td>DNA</td>\n",
       "      <td>18</td>\n",
       "      <td>385.277778</td>\n",
       "      <td>hashing</td>\n",
       "    </tr>\n",
       "    <tr>\n",
       "      <th>2</th>\n",
       "      <td>2003</td>\n",
       "      <td>1339.0</td>\n",
       "      <td>hashing</td>\n",
       "      <td>seed</td>\n",
       "      <td>Y</td>\n",
       "      <td>Local</td>\n",
       "      <td>N</td>\n",
       "      <td>DNA</td>\n",
       "      <td>17</td>\n",
       "      <td>78.764706</td>\n",
       "      <td>hashing</td>\n",
       "    </tr>\n",
       "    <tr>\n",
       "      <th>3</th>\n",
       "      <td>2005</td>\n",
       "      <td>1138.0</td>\n",
       "      <td>hashing</td>\n",
       "      <td>seed</td>\n",
       "      <td>N</td>\n",
       "      <td>Hamming</td>\n",
       "      <td>N</td>\n",
       "      <td>DNA</td>\n",
       "      <td>15</td>\n",
       "      <td>75.866667</td>\n",
       "      <td>hashing</td>\n",
       "    </tr>\n",
       "    <tr>\n",
       "      <th>4</th>\n",
       "      <td>2005</td>\n",
       "      <td>1139.0</td>\n",
       "      <td>hashing</td>\n",
       "      <td>seed</td>\n",
       "      <td>N</td>\n",
       "      <td>Global</td>\n",
       "      <td>Y</td>\n",
       "      <td>DNA</td>\n",
       "      <td>15</td>\n",
       "      <td>75.933333</td>\n",
       "      <td>hashing</td>\n",
       "    </tr>\n",
       "  </tbody>\n",
       "</table>\n",
       "</div>"
      ],
      "text/plain": [
       "   Year_of_publication  Number_of_citations    index global wrapper  \\\n",
       "0                 2001               1093.0  hashing   seed       N   \n",
       "1                 2002               6935.0  hashing   seed       N   \n",
       "2                 2003               1339.0  hashing   seed       Y   \n",
       "3                 2005               1138.0  hashing   seed       N   \n",
       "4                 2005               1139.0  hashing   seed       N   \n",
       "\n",
       "              local chain_of_seeds technology  age  citation_per_year   index2  \n",
       "0            Global              N        DNA   19          57.526316  hashing  \n",
       "1  Non-DP heuristic              Y        DNA   18         385.277778  hashing  \n",
       "2             Local              N        DNA   17          78.764706  hashing  \n",
       "3           Hamming              N        DNA   15          75.866667  hashing  \n",
       "4            Global              Y        DNA   15          75.933333  hashing  "
      ]
     },
     "execution_count": 122,
     "metadata": {},
     "output_type": "execute_result"
    }
   ],
   "source": [
    "def f(x):\n",
    "  if x['index'] == 'hashing': return 'hashing'\n",
    "  elif x['index'] == 'BWT-FM': return 'FM-index'\n",
    "  else: return 'Other suffix tree structure'\n",
    "\n",
    "data['index2'] = data.apply(f, axis=1)\n",
    "data.head()"
   ]
  },
  {
   "cell_type": "code",
   "execution_count": 123,
   "metadata": {},
   "outputs": [
    {
     "data": {
      "text/html": [
       "<div>\n",
       "<style scoped>\n",
       "    .dataframe tbody tr th:only-of-type {\n",
       "        vertical-align: middle;\n",
       "    }\n",
       "\n",
       "    .dataframe tbody tr th {\n",
       "        vertical-align: top;\n",
       "    }\n",
       "\n",
       "    .dataframe thead th {\n",
       "        text-align: right;\n",
       "    }\n",
       "</style>\n",
       "<table border=\"1\" class=\"dataframe\">\n",
       "  <thead>\n",
       "    <tr style=\"text-align: right;\">\n",
       "      <th></th>\n",
       "      <th>index</th>\n",
       "      <th>counts</th>\n",
       "    </tr>\n",
       "  </thead>\n",
       "  <tbody>\n",
       "    <tr>\n",
       "      <th>0</th>\n",
       "      <td>hashing</td>\n",
       "      <td>0.630435</td>\n",
       "    </tr>\n",
       "    <tr>\n",
       "      <th>1</th>\n",
       "      <td>FM-index</td>\n",
       "      <td>0.282609</td>\n",
       "    </tr>\n",
       "    <tr>\n",
       "      <th>2</th>\n",
       "      <td>Other suffix tree structure</td>\n",
       "      <td>0.086957</td>\n",
       "    </tr>\n",
       "  </tbody>\n",
       "</table>\n",
       "</div>"
      ],
      "text/plain": [
       "                         index    counts\n",
       "0                      hashing  0.630435\n",
       "1                     FM-index  0.282609\n",
       "2  Other suffix tree structure  0.086957"
      ]
     },
     "execution_count": 123,
     "metadata": {},
     "output_type": "execute_result"
    }
   ],
   "source": [
    "value_counts=data['index2'].value_counts(normalize=True)\n",
    "data_index = pd.DataFrame(value_counts)\n",
    "data_index = data_index.reset_index()\n",
    "data_index.columns = ['index', 'counts'] # change column names\n",
    "data_index.head()"
   ]
  },
  {
   "cell_type": "code",
   "execution_count": 145,
   "metadata": {},
   "outputs": [
    {
     "data": {
      "text/html": [
       "<div>\n",
       "<style scoped>\n",
       "    .dataframe tbody tr th:only-of-type {\n",
       "        vertical-align: middle;\n",
       "    }\n",
       "\n",
       "    .dataframe tbody tr th {\n",
       "        vertical-align: top;\n",
       "    }\n",
       "\n",
       "    .dataframe thead th {\n",
       "        text-align: right;\n",
       "    }\n",
       "</style>\n",
       "<table border=\"1\" class=\"dataframe\">\n",
       "  <thead>\n",
       "    <tr style=\"text-align: right;\">\n",
       "      <th></th>\n",
       "      <th>Year_of_publication</th>\n",
       "      <th>Number_of_citations</th>\n",
       "      <th>index</th>\n",
       "      <th>global</th>\n",
       "      <th>wrapper</th>\n",
       "      <th>local</th>\n",
       "      <th>chain_of_seeds</th>\n",
       "      <th>technology</th>\n",
       "      <th>age</th>\n",
       "      <th>citation_per_year</th>\n",
       "      <th>index2</th>\n",
       "    </tr>\n",
       "  </thead>\n",
       "  <tbody>\n",
       "    <tr>\n",
       "      <th>7</th>\n",
       "      <td>2008</td>\n",
       "      <td>173.0</td>\n",
       "      <td>suffix array</td>\n",
       "      <td>seed</td>\n",
       "      <td>Y</td>\n",
       "      <td>Local</td>\n",
       "      <td>N</td>\n",
       "      <td>RNA-Seq</td>\n",
       "      <td>12</td>\n",
       "      <td>14.416667</td>\n",
       "      <td>Other suffix tree structure</td>\n",
       "    </tr>\n",
       "    <tr>\n",
       "      <th>30</th>\n",
       "      <td>2009</td>\n",
       "      <td>8395.0</td>\n",
       "      <td>BWT-FM</td>\n",
       "      <td>seed</td>\n",
       "      <td>Y</td>\n",
       "      <td>Hamming Distance</td>\n",
       "      <td>N</td>\n",
       "      <td>RNA-Seq</td>\n",
       "      <td>11</td>\n",
       "      <td>763.181818</td>\n",
       "      <td>FM-index</td>\n",
       "    </tr>\n",
       "    <tr>\n",
       "      <th>34</th>\n",
       "      <td>2010</td>\n",
       "      <td>774.0</td>\n",
       "      <td>BWT-FM</td>\n",
       "      <td>Backward Search</td>\n",
       "      <td>Y</td>\n",
       "      <td>Hamming Distance</td>\n",
       "      <td>N</td>\n",
       "      <td>RNA-Seq</td>\n",
       "      <td>10</td>\n",
       "      <td>77.400000</td>\n",
       "      <td>FM-index</td>\n",
       "    </tr>\n",
       "    <tr>\n",
       "      <th>39</th>\n",
       "      <td>2010</td>\n",
       "      <td>335.0</td>\n",
       "      <td>hashing</td>\n",
       "      <td>seed</td>\n",
       "      <td>Y</td>\n",
       "      <td>Hamming Distance</td>\n",
       "      <td>N</td>\n",
       "      <td>RNA-Seq</td>\n",
       "      <td>10</td>\n",
       "      <td>33.500000</td>\n",
       "      <td>hashing</td>\n",
       "    </tr>\n",
       "    <tr>\n",
       "      <th>40</th>\n",
       "      <td>2010</td>\n",
       "      <td>58.0</td>\n",
       "      <td>hashing</td>\n",
       "      <td>seed</td>\n",
       "      <td>N</td>\n",
       "      <td>No Alignment</td>\n",
       "      <td>N</td>\n",
       "      <td>RNA-Seq</td>\n",
       "      <td>10</td>\n",
       "      <td>5.800000</td>\n",
       "      <td>hashing</td>\n",
       "    </tr>\n",
       "  </tbody>\n",
       "</table>\n",
       "</div>"
      ],
      "text/plain": [
       "    Year_of_publication  Number_of_citations         index           global  \\\n",
       "7                  2008                173.0  suffix array             seed   \n",
       "30                 2009               8395.0        BWT-FM             seed   \n",
       "34                 2010                774.0        BWT-FM  Backward Search   \n",
       "39                 2010                335.0       hashing             seed   \n",
       "40                 2010                 58.0       hashing             seed   \n",
       "\n",
       "   wrapper             local chain_of_seeds technology  age  \\\n",
       "7        Y             Local              N    RNA-Seq   12   \n",
       "30       Y  Hamming Distance              N    RNA-Seq   11   \n",
       "34       Y  Hamming Distance              N    RNA-Seq   10   \n",
       "39       Y  Hamming Distance              N    RNA-Seq   10   \n",
       "40       N      No Alignment              N    RNA-Seq   10   \n",
       "\n",
       "    citation_per_year                       index2  \n",
       "7           14.416667  Other suffix tree structure  \n",
       "30         763.181818                     FM-index  \n",
       "34          77.400000                     FM-index  \n",
       "39          33.500000                      hashing  \n",
       "40           5.800000                      hashing  "
      ]
     },
     "execution_count": 145,
     "metadata": {},
     "output_type": "execute_result"
    }
   ],
   "source": [
    "data_RNA=data.loc[data['technology'] == 'RNA-Seq']\n",
    "data_RNA.head()"
   ]
  },
  {
   "cell_type": "code",
   "execution_count": 135,
   "metadata": {},
   "outputs": [
    {
     "data": {
      "text/html": [
       "<div>\n",
       "<style scoped>\n",
       "    .dataframe tbody tr th:only-of-type {\n",
       "        vertical-align: middle;\n",
       "    }\n",
       "\n",
       "    .dataframe tbody tr th {\n",
       "        vertical-align: top;\n",
       "    }\n",
       "\n",
       "    .dataframe thead th {\n",
       "        text-align: right;\n",
       "    }\n",
       "</style>\n",
       "<table border=\"1\" class=\"dataframe\">\n",
       "  <thead>\n",
       "    <tr style=\"text-align: right;\">\n",
       "      <th></th>\n",
       "      <th>Year_of_publication</th>\n",
       "      <th>Number_of_citations</th>\n",
       "      <th>index</th>\n",
       "      <th>global</th>\n",
       "      <th>wrapper</th>\n",
       "      <th>local</th>\n",
       "      <th>chain_of_seeds</th>\n",
       "      <th>technology</th>\n",
       "      <th>age</th>\n",
       "      <th>citation_per_year</th>\n",
       "      <th>index2</th>\n",
       "    </tr>\n",
       "  </thead>\n",
       "  <tbody>\n",
       "    <tr>\n",
       "      <th>0</th>\n",
       "      <td>2001</td>\n",
       "      <td>1093.0</td>\n",
       "      <td>hashing</td>\n",
       "      <td>seed</td>\n",
       "      <td>N</td>\n",
       "      <td>Global</td>\n",
       "      <td>N</td>\n",
       "      <td>DNA</td>\n",
       "      <td>19</td>\n",
       "      <td>57.526316</td>\n",
       "      <td>hashing</td>\n",
       "    </tr>\n",
       "    <tr>\n",
       "      <th>1</th>\n",
       "      <td>2002</td>\n",
       "      <td>6935.0</td>\n",
       "      <td>hashing</td>\n",
       "      <td>seed</td>\n",
       "      <td>N</td>\n",
       "      <td>Non-DP heuristic</td>\n",
       "      <td>Y</td>\n",
       "      <td>DNA</td>\n",
       "      <td>18</td>\n",
       "      <td>385.277778</td>\n",
       "      <td>hashing</td>\n",
       "    </tr>\n",
       "    <tr>\n",
       "      <th>2</th>\n",
       "      <td>2003</td>\n",
       "      <td>1339.0</td>\n",
       "      <td>hashing</td>\n",
       "      <td>seed</td>\n",
       "      <td>Y</td>\n",
       "      <td>Local</td>\n",
       "      <td>N</td>\n",
       "      <td>DNA</td>\n",
       "      <td>17</td>\n",
       "      <td>78.764706</td>\n",
       "      <td>hashing</td>\n",
       "    </tr>\n",
       "    <tr>\n",
       "      <th>3</th>\n",
       "      <td>2005</td>\n",
       "      <td>1138.0</td>\n",
       "      <td>hashing</td>\n",
       "      <td>seed</td>\n",
       "      <td>N</td>\n",
       "      <td>Hamming</td>\n",
       "      <td>N</td>\n",
       "      <td>DNA</td>\n",
       "      <td>15</td>\n",
       "      <td>75.866667</td>\n",
       "      <td>hashing</td>\n",
       "    </tr>\n",
       "    <tr>\n",
       "      <th>4</th>\n",
       "      <td>2005</td>\n",
       "      <td>1139.0</td>\n",
       "      <td>hashing</td>\n",
       "      <td>seed</td>\n",
       "      <td>N</td>\n",
       "      <td>Global</td>\n",
       "      <td>Y</td>\n",
       "      <td>DNA</td>\n",
       "      <td>15</td>\n",
       "      <td>75.933333</td>\n",
       "      <td>hashing</td>\n",
       "    </tr>\n",
       "  </tbody>\n",
       "</table>\n",
       "</div>"
      ],
      "text/plain": [
       "   Year_of_publication  Number_of_citations    index global wrapper  \\\n",
       "0                 2001               1093.0  hashing   seed       N   \n",
       "1                 2002               6935.0  hashing   seed       N   \n",
       "2                 2003               1339.0  hashing   seed       Y   \n",
       "3                 2005               1138.0  hashing   seed       N   \n",
       "4                 2005               1139.0  hashing   seed       N   \n",
       "\n",
       "              local chain_of_seeds technology  age  citation_per_year   index2  \n",
       "0            Global              N        DNA   19          57.526316  hashing  \n",
       "1  Non-DP heuristic              Y        DNA   18         385.277778  hashing  \n",
       "2             Local              N        DNA   17          78.764706  hashing  \n",
       "3           Hamming              N        DNA   15          75.866667  hashing  \n",
       "4            Global              Y        DNA   15          75.933333  hashing  "
      ]
     },
     "execution_count": 135,
     "metadata": {},
     "output_type": "execute_result"
    }
   ],
   "source": [
    "data_DNA=data.loc[data['technology'] == 'DNA']\n",
    "data_DNA.head()"
   ]
  },
  {
   "cell_type": "code",
   "execution_count": 136,
   "metadata": {},
   "outputs": [
    {
     "data": {
      "text/html": [
       "<div>\n",
       "<style scoped>\n",
       "    .dataframe tbody tr th:only-of-type {\n",
       "        vertical-align: middle;\n",
       "    }\n",
       "\n",
       "    .dataframe tbody tr th {\n",
       "        vertical-align: top;\n",
       "    }\n",
       "\n",
       "    .dataframe thead th {\n",
       "        text-align: right;\n",
       "    }\n",
       "</style>\n",
       "<table border=\"1\" class=\"dataframe\">\n",
       "  <thead>\n",
       "    <tr style=\"text-align: right;\">\n",
       "      <th></th>\n",
       "      <th>Year_of_publication</th>\n",
       "      <th>Number_of_citations</th>\n",
       "      <th>index</th>\n",
       "      <th>global</th>\n",
       "      <th>wrapper</th>\n",
       "      <th>local</th>\n",
       "      <th>chain_of_seeds</th>\n",
       "      <th>technology</th>\n",
       "      <th>age</th>\n",
       "      <th>citation_per_year</th>\n",
       "      <th>index2</th>\n",
       "    </tr>\n",
       "  </thead>\n",
       "  <tbody>\n",
       "    <tr>\n",
       "      <th>15</th>\n",
       "      <td>2009</td>\n",
       "      <td>62.0</td>\n",
       "      <td>hashing</td>\n",
       "      <td>seed</td>\n",
       "      <td>N</td>\n",
       "      <td>Hamming Distance</td>\n",
       "      <td>N</td>\n",
       "      <td>Bisulfite</td>\n",
       "      <td>11</td>\n",
       "      <td>5.636364</td>\n",
       "      <td>hashing</td>\n",
       "    </tr>\n",
       "    <tr>\n",
       "      <th>16</th>\n",
       "      <td>2009</td>\n",
       "      <td>475.0</td>\n",
       "      <td>hashing</td>\n",
       "      <td>seed</td>\n",
       "      <td>N</td>\n",
       "      <td>Hamming Distance</td>\n",
       "      <td>N</td>\n",
       "      <td>Bisulfite</td>\n",
       "      <td>11</td>\n",
       "      <td>43.181818</td>\n",
       "      <td>hashing</td>\n",
       "    </tr>\n",
       "    <tr>\n",
       "      <th>31</th>\n",
       "      <td>2010</td>\n",
       "      <td>213.0</td>\n",
       "      <td>BWT-FM</td>\n",
       "      <td>Backward Search</td>\n",
       "      <td>Y</td>\n",
       "      <td>Hamming Distance</td>\n",
       "      <td>N</td>\n",
       "      <td>Bisulfite</td>\n",
       "      <td>10</td>\n",
       "      <td>21.300000</td>\n",
       "      <td>FM-index</td>\n",
       "    </tr>\n",
       "    <tr>\n",
       "      <th>42</th>\n",
       "      <td>2011</td>\n",
       "      <td>1332.0</td>\n",
       "      <td>BWT-FM</td>\n",
       "      <td>Backward Search</td>\n",
       "      <td>Y</td>\n",
       "      <td>Hamming Distance</td>\n",
       "      <td>N</td>\n",
       "      <td>Bisulfite</td>\n",
       "      <td>9</td>\n",
       "      <td>148.000000</td>\n",
       "      <td>FM-index</td>\n",
       "    </tr>\n",
       "    <tr>\n",
       "      <th>53</th>\n",
       "      <td>2012</td>\n",
       "      <td>65.0</td>\n",
       "      <td>BWT-FM</td>\n",
       "      <td>Backward Search</td>\n",
       "      <td>N</td>\n",
       "      <td>Hamming Distance</td>\n",
       "      <td>N</td>\n",
       "      <td>Bisulfite</td>\n",
       "      <td>8</td>\n",
       "      <td>8.125000</td>\n",
       "      <td>FM-index</td>\n",
       "    </tr>\n",
       "  </tbody>\n",
       "</table>\n",
       "</div>"
      ],
      "text/plain": [
       "    Year_of_publication  Number_of_citations    index           global  \\\n",
       "15                 2009                 62.0  hashing             seed   \n",
       "16                 2009                475.0  hashing             seed   \n",
       "31                 2010                213.0   BWT-FM  Backward Search   \n",
       "42                 2011               1332.0   BWT-FM  Backward Search   \n",
       "53                 2012                 65.0   BWT-FM  Backward Search   \n",
       "\n",
       "   wrapper             local chain_of_seeds technology  age  \\\n",
       "15       N  Hamming Distance              N  Bisulfite   11   \n",
       "16       N  Hamming Distance              N  Bisulfite   11   \n",
       "31       Y  Hamming Distance              N  Bisulfite   10   \n",
       "42       Y  Hamming Distance              N  Bisulfite    9   \n",
       "53       N  Hamming Distance              N  Bisulfite    8   \n",
       "\n",
       "    citation_per_year    index2  \n",
       "15           5.636364   hashing  \n",
       "16          43.181818   hashing  \n",
       "31          21.300000  FM-index  \n",
       "42         148.000000  FM-index  \n",
       "53           8.125000  FM-index  "
      ]
     },
     "execution_count": 136,
     "metadata": {},
     "output_type": "execute_result"
    }
   ],
   "source": [
    "data_BS=data.loc[data['technology'] == 'Bisulfite']\n",
    "data_BS.head()"
   ]
  },
  {
   "cell_type": "code",
   "execution_count": 126,
   "metadata": {},
   "outputs": [
    {
     "data": {
      "image/png": "[encoded data removed]",
      "text/plain": [
       "<Figure size 432x288 with 1 Axes>"
      ]
     },
     "metadata": {},
     "output_type": "display_data"
    }
   ],
   "source": [
    "import matplotlib.pyplot as plt\n",
    "import seaborn as sns\n",
    "g=sns.set_style(\"white\")\n",
    "g=sns.set_context(\"talk\")\n",
    "g=sns.barplot(x=\"counts\", y=\"index\", data=data_index)\n",
    "g.set(xlabel='Percentage read alignment methods (%)', ylabel='Indexing algorithm')\n",
    "g=sns.despine()\n",
    "#plt.show(g)\n",
    "plt.savefig(\"Figure_1_panels/index_barplot.png\", bbox_inches='tight')"
   ]
  },
  {
   "cell_type": "code",
   "execution_count": 137,
   "metadata": {},
   "outputs": [
    {
     "data": {
      "text/html": [
       "<div>\n",
       "<style scoped>\n",
       "    .dataframe tbody tr th:only-of-type {\n",
       "        vertical-align: middle;\n",
       "    }\n",
       "\n",
       "    .dataframe tbody tr th {\n",
       "        vertical-align: top;\n",
       "    }\n",
       "\n",
       "    .dataframe thead th {\n",
       "        text-align: right;\n",
       "    }\n",
       "</style>\n",
       "<table border=\"1\" class=\"dataframe\">\n",
       "  <thead>\n",
       "    <tr style=\"text-align: right;\">\n",
       "      <th></th>\n",
       "      <th>index</th>\n",
       "      <th>counts</th>\n",
       "    </tr>\n",
       "  </thead>\n",
       "  <tbody>\n",
       "    <tr>\n",
       "      <th>0</th>\n",
       "      <td>FM-index</td>\n",
       "      <td>0.529412</td>\n",
       "    </tr>\n",
       "    <tr>\n",
       "      <th>1</th>\n",
       "      <td>hashing</td>\n",
       "      <td>0.352941</td>\n",
       "    </tr>\n",
       "    <tr>\n",
       "      <th>2</th>\n",
       "      <td>Other suffix tree structure</td>\n",
       "      <td>0.117647</td>\n",
       "    </tr>\n",
       "  </tbody>\n",
       "</table>\n",
       "</div>"
      ],
      "text/plain": [
       "                         index    counts\n",
       "0                     FM-index  0.529412\n",
       "1                      hashing  0.352941\n",
       "2  Other suffix tree structure  0.117647"
      ]
     },
     "execution_count": 137,
     "metadata": {},
     "output_type": "execute_result"
    }
   ],
   "source": [
    "value_counts=data_RNA['index2'].value_counts(normalize=True)\n",
    "data_index_RNA = pd.DataFrame(value_counts)\n",
    "data_index_RNA = data_index_RNA.reset_index()\n",
    "data_index_RNA.columns = ['index', 'counts'] # change column names\n",
    "data_index_RNA.head()"
   ]
  },
  {
   "cell_type": "code",
   "execution_count": 138,
   "metadata": {},
   "outputs": [
    {
     "data": {
      "image/png": "[encoded data removed]",
      "text/plain": [
       "<Figure size 432x288 with 1 Axes>"
      ]
     },
     "metadata": {},
     "output_type": "display_data"
    }
   ],
   "source": [
    "import matplotlib.pyplot as plt\n",
    "import seaborn as sns\n",
    "g=sns.set_style(\"white\")\n",
    "g=sns.set_context(\"talk\")\n",
    "g=sns.barplot(x=\"counts\", y=\"index\", data=data_index_RNA)\n",
    "g.set(xlabel='Percentage RNA-Seq alignment methods (%)', ylabel='Indexing algorithm')\n",
    "g=sns.despine()\n",
    "#plt.show(g)\n",
    "plt.savefig(\"Figure_1_panels/index_barplot_RNASeq.png\", bbox_inches='tight')"
   ]
  },
  {
   "cell_type": "code",
   "execution_count": 139,
   "metadata": {},
   "outputs": [
    {
     "data": {
      "text/html": [
       "<div>\n",
       "<style scoped>\n",
       "    .dataframe tbody tr th:only-of-type {\n",
       "        vertical-align: middle;\n",
       "    }\n",
       "\n",
       "    .dataframe tbody tr th {\n",
       "        vertical-align: top;\n",
       "    }\n",
       "\n",
       "    .dataframe thead th {\n",
       "        text-align: right;\n",
       "    }\n",
       "</style>\n",
       "<table border=\"1\" class=\"dataframe\">\n",
       "  <thead>\n",
       "    <tr style=\"text-align: right;\">\n",
       "      <th></th>\n",
       "      <th>index</th>\n",
       "      <th>counts</th>\n",
       "    </tr>\n",
       "  </thead>\n",
       "  <tbody>\n",
       "    <tr>\n",
       "      <th>0</th>\n",
       "      <td>hashing</td>\n",
       "      <td>0.712121</td>\n",
       "    </tr>\n",
       "    <tr>\n",
       "      <th>1</th>\n",
       "      <td>FM-index</td>\n",
       "      <td>0.196970</td>\n",
       "    </tr>\n",
       "    <tr>\n",
       "      <th>2</th>\n",
       "      <td>Other suffix tree structure</td>\n",
       "      <td>0.090909</td>\n",
       "    </tr>\n",
       "  </tbody>\n",
       "</table>\n",
       "</div>"
      ],
      "text/plain": [
       "                         index    counts\n",
       "0                      hashing  0.712121\n",
       "1                     FM-index  0.196970\n",
       "2  Other suffix tree structure  0.090909"
      ]
     },
     "execution_count": 139,
     "metadata": {},
     "output_type": "execute_result"
    }
   ],
   "source": [
    "value_counts=data_DNA['index2'].value_counts(normalize=True)\n",
    "data_index_DNA = pd.DataFrame(value_counts)\n",
    "data_index_DNA = data_index_DNA.reset_index()\n",
    "data_index_DNA.columns = ['index', 'counts'] # change column names\n",
    "data_index_DNA.head()"
   ]
  },
  {
   "cell_type": "code",
   "execution_count": 141,
   "metadata": {},
   "outputs": [
    {
     "data": {
      "image/png": "[encoded data removed]",
      "text/plain": [
       "<Figure size 432x288 with 1 Axes>"
      ]
     },
     "metadata": {},
     "output_type": "display_data"
    }
   ],
   "source": [
    "import matplotlib.pyplot as plt\n",
    "import seaborn as sns\n",
    "g=sns.set_style(\"white\")\n",
    "g=sns.set_context(\"talk\")\n",
    "g=sns.barplot(x=\"counts\", y=\"index\", data=data_index_DNA)\n",
    "g.set(xlabel='Percentage DNA-Seq alignment methods (%)', ylabel='Indexing algorithm')\n",
    "g=sns.despine()\n",
    "#plt.show(g)\n",
    "plt.savefig(\"Figure_1_panels/index_barplot_DNASeq.png\", bbox_inches='tight')"
   ]
  },
  {
   "cell_type": "code",
   "execution_count": 156,
   "metadata": {},
   "outputs": [
    {
     "data": {
      "text/html": [
       "<div>\n",
       "<style scoped>\n",
       "    .dataframe tbody tr th:only-of-type {\n",
       "        vertical-align: middle;\n",
       "    }\n",
       "\n",
       "    .dataframe tbody tr th {\n",
       "        vertical-align: top;\n",
       "    }\n",
       "\n",
       "    .dataframe thead th {\n",
       "        text-align: right;\n",
       "    }\n",
       "</style>\n",
       "<table border=\"1\" class=\"dataframe\">\n",
       "  <thead>\n",
       "    <tr style=\"text-align: right;\">\n",
       "      <th></th>\n",
       "      <th>index</th>\n",
       "      <th>counts</th>\n",
       "    </tr>\n",
       "  </thead>\n",
       "  <tbody>\n",
       "    <tr>\n",
       "      <th>0</th>\n",
       "      <td>FM-index</td>\n",
       "      <td>0.666667</td>\n",
       "    </tr>\n",
       "    <tr>\n",
       "      <th>1</th>\n",
       "      <td>hashing</td>\n",
       "      <td>0.333333</td>\n",
       "    </tr>\n",
       "  </tbody>\n",
       "</table>\n",
       "</div>"
      ],
      "text/plain": [
       "      index    counts\n",
       "0  FM-index  0.666667\n",
       "1   hashing  0.333333"
      ]
     },
     "execution_count": 156,
     "metadata": {},
     "output_type": "execute_result"
    }
   ],
   "source": [
    "value_counts=data_BS['index2'].value_counts(normalize=True)\n",
    "data_index_BS = pd.DataFrame(value_counts)\n",
    "data_index_BS = data_index_BS.reset_index()\n",
    "data_index_BS.columns = ['index', 'counts'] # change column names\n",
    "data_index_BS.head()"
   ]
  },
  {
   "cell_type": "code",
   "execution_count": 158,
   "metadata": {},
   "outputs": [
    {
     "data": {
      "image/png": "[encoded data removed]",
      "text/plain": [
       "<Figure size 432x288 with 1 Axes>"
      ]
     },
     "metadata": {},
     "output_type": "display_data"
    }
   ],
   "source": [
    "import matplotlib.pyplot as plt\n",
    "import seaborn as sns\n",
    "g=sns.set_style(\"white\")\n",
    "g=sns.set_context(\"talk\")\n",
    "g=sns.barplot(x=\"counts\", y=\"index\", data=data_index_BS)\n",
    "g.set(xlabel='Percentage BS-Seq alignment methods (%)', ylabel='Indexing algorithm')\n",
    "g=sns.despine()\n",
    "#plt.show(g)\n",
    "plt.savefig(\"Figure_1_panels/index_barplot_BSSeq.png\", bbox_inches='tight')"
   ]
  },
  {
   "cell_type": "code",
   "execution_count": 127,
   "metadata": {},
   "outputs": [
    {
     "data": {
      "text/html": [
       "<div>\n",
       "<style scoped>\n",
       "    .dataframe tbody tr th:only-of-type {\n",
       "        vertical-align: middle;\n",
       "    }\n",
       "\n",
       "    .dataframe tbody tr th {\n",
       "        vertical-align: top;\n",
       "    }\n",
       "\n",
       "    .dataframe thead th {\n",
       "        text-align: right;\n",
       "    }\n",
       "</style>\n",
       "<table border=\"1\" class=\"dataframe\">\n",
       "  <thead>\n",
       "    <tr style=\"text-align: right;\">\n",
       "      <th></th>\n",
       "      <th>index</th>\n",
       "      <th>counts</th>\n",
       "    </tr>\n",
       "  </thead>\n",
       "  <tbody>\n",
       "    <tr>\n",
       "      <th>0</th>\n",
       "      <td>N</td>\n",
       "      <td>0.836957</td>\n",
       "    </tr>\n",
       "    <tr>\n",
       "      <th>1</th>\n",
       "      <td>Y</td>\n",
       "      <td>0.163043</td>\n",
       "    </tr>\n",
       "  </tbody>\n",
       "</table>\n",
       "</div>"
      ],
      "text/plain": [
       "  index    counts\n",
       "0     N  0.836957\n",
       "1     Y  0.163043"
      ]
     },
     "execution_count": 127,
     "metadata": {},
     "output_type": "execute_result"
    }
   ],
   "source": [
    "value_counts=data['wrapper'].value_counts(normalize=True)\n",
    "data_wrapper = pd.DataFrame(value_counts)\n",
    "data_wrapper = data_wrapper.reset_index()\n",
    "data_wrapper.columns = ['index', 'counts'] # change column names\n",
    "data_wrapper.head()"
   ]
  },
  {
   "cell_type": "code",
   "execution_count": 159,
   "metadata": {},
   "outputs": [
    {
     "data": {
      "image/png": "[encoded data removed]",
      "text/plain": [
       "<Figure size 432x288 with 1 Axes>"
      ]
     },
     "metadata": {},
     "output_type": "display_data"
    }
   ],
   "source": [
    "import matplotlib.pyplot as plt\n",
    "import seaborn as sns\n",
    "g=sns.set_style(\"white\")\n",
    "g=sns.set_context(\"talk\")\n",
    "g=sns.barplot(x=\"counts\", y=\"index\", data=data_index_BS)\n",
    "g.set(xlabel='Percentage BS-Seq alignment methods (%)', ylabel='Indexing algorithm')\n",
    "g=sns.despine()\n",
    "#plt.show(g)\n",
    "plt.savefig(\"Figure_1_panels/index_barplot_BSSeq.png\", bbox_inches='tight')"
   ]
  },
  {
   "cell_type": "code",
   "execution_count": 151,
   "metadata": {},
   "outputs": [
    {
     "data": {
      "text/html": [
       "<div>\n",
       "<style scoped>\n",
       "    .dataframe tbody tr th:only-of-type {\n",
       "        vertical-align: middle;\n",
       "    }\n",
       "\n",
       "    .dataframe tbody tr th {\n",
       "        vertical-align: top;\n",
       "    }\n",
       "\n",
       "    .dataframe thead th {\n",
       "        text-align: right;\n",
       "    }\n",
       "</style>\n",
       "<table border=\"1\" class=\"dataframe\">\n",
       "  <thead>\n",
       "    <tr style=\"text-align: right;\">\n",
       "      <th></th>\n",
       "      <th>wrapper</th>\n",
       "      <th>counts</th>\n",
       "    </tr>\n",
       "  </thead>\n",
       "  <tbody>\n",
       "    <tr>\n",
       "      <th>0</th>\n",
       "      <td>N</td>\n",
       "      <td>0.529412</td>\n",
       "    </tr>\n",
       "    <tr>\n",
       "      <th>1</th>\n",
       "      <td>Y</td>\n",
       "      <td>0.470588</td>\n",
       "    </tr>\n",
       "  </tbody>\n",
       "</table>\n",
       "</div>"
      ],
      "text/plain": [
       "  wrapper    counts\n",
       "0       N  0.529412\n",
       "1       Y  0.470588"
      ]
     },
     "execution_count": 151,
     "metadata": {},
     "output_type": "execute_result"
    }
   ],
   "source": [
    "value_counts=data_RNA['wrapper'].value_counts(normalize=True)\n",
    "data_wrapper_RNA = pd.DataFrame(value_counts)\n",
    "data_wrapper_RNA = data_wrapper_RNA.reset_index()\n",
    "data_wrapper_RNA.columns = ['wrapper', 'counts'] # change column names\n",
    "data_wrapper_RNA.head()"
   ]
  },
  {
   "cell_type": "code",
   "execution_count": 154,
   "metadata": {},
   "outputs": [
    {
     "data": {
      "image/png": "[encoded data removed]",
      "text/plain": [
       "<Figure size 432x288 with 1 Axes>"
      ]
     },
     "metadata": {},
     "output_type": "display_data"
    }
   ],
   "source": [
    "import matplotlib.pyplot as plt\n",
    "import seaborn as sns\n",
    "g=sns.set_style(\"white\")\n",
    "g=sns.set_context(\"talk\")\n",
    "g=sns.barplot(x=\"counts\", y=\"wrapper\", data=data_wrapper_RNA)\n",
    "g.set(xlabel='Percentage RNA-Seq alignment methods(%)', ylabel='Wrapper of existing DNA-Seq aligner')\n",
    "g=sns.despine()\n",
    "#plt.show(g)\n",
    "plt.savefig(\"Figure_1_panels/wrapper_barplot_RNASeq.png\", bbox_inches='tight')"
   ]
  },
  {
   "cell_type": "code",
   "execution_count": 155,
   "metadata": {},
   "outputs": [
    {
     "data": {
      "text/html": [
       "<div>\n",
       "<style scoped>\n",
       "    .dataframe tbody tr th:only-of-type {\n",
       "        vertical-align: middle;\n",
       "    }\n",
       "\n",
       "    .dataframe tbody tr th {\n",
       "        vertical-align: top;\n",
       "    }\n",
       "\n",
       "    .dataframe thead th {\n",
       "        text-align: right;\n",
       "    }\n",
       "</style>\n",
       "<table border=\"1\" class=\"dataframe\">\n",
       "  <thead>\n",
       "    <tr style=\"text-align: right;\">\n",
       "      <th></th>\n",
       "      <th>wrapper</th>\n",
       "      <th>counts</th>\n",
       "    </tr>\n",
       "  </thead>\n",
       "  <tbody>\n",
       "    <tr>\n",
       "      <th>0</th>\n",
       "      <td>Y</td>\n",
       "      <td>0.5</td>\n",
       "    </tr>\n",
       "    <tr>\n",
       "      <th>1</th>\n",
       "      <td>N</td>\n",
       "      <td>0.5</td>\n",
       "    </tr>\n",
       "  </tbody>\n",
       "</table>\n",
       "</div>"
      ],
      "text/plain": [
       "  wrapper  counts\n",
       "0       Y     0.5\n",
       "1       N     0.5"
      ]
     },
     "execution_count": 155,
     "metadata": {},
     "output_type": "execute_result"
    }
   ],
   "source": [
    "value_counts=data_BS['wrapper'].value_counts(normalize=True)\n",
    "data_wrapper_BS = pd.DataFrame(value_counts)\n",
    "data_wrapper_BS = data_wrapper_BS.reset_index()\n",
    "data_wrapper_BS.columns = ['wrapper', 'counts'] # change column names\n",
    "data_wrapper_BS.head()"
   ]
  },
  {
   "cell_type": "code",
   "execution_count": 160,
   "metadata": {},
   "outputs": [
    {
     "data": {
      "image/png": "[encoded data removed]",
      "text/plain": [
       "<Figure size 432x288 with 1 Axes>"
      ]
     },
     "metadata": {},
     "output_type": "display_data"
    }
   ],
   "source": [
    "import matplotlib.pyplot as plt\n",
    "import seaborn as sns\n",
    "g=sns.set_style(\"white\")\n",
    "g=sns.set_context(\"talk\")\n",
    "g=sns.barplot(x=\"counts\", y=\"wrapper\", data=data_wrapper_BS)\n",
    "g.set(xlabel='Percentage BS-Seq alignment methods(%)', ylabel='Wrapper of existing DNA-Seq aligner')\n",
    "g=sns.despine()\n",
    "#plt.show(g)\n",
    "plt.savefig(\"Figure_1_panels/wrapper_barplot_BSSeq.png\", bbox_inches='tight')"
   ]
  },
  {
   "cell_type": "code",
   "execution_count": 147,
   "metadata": {},
   "outputs": [
    {
     "data": {
      "text/html": [
       "<div>\n",
       "<style scoped>\n",
       "    .dataframe tbody tr th:only-of-type {\n",
       "        vertical-align: middle;\n",
       "    }\n",
       "\n",
       "    .dataframe tbody tr th {\n",
       "        vertical-align: top;\n",
       "    }\n",
       "\n",
       "    .dataframe thead th {\n",
       "        text-align: right;\n",
       "    }\n",
       "</style>\n",
       "<table border=\"1\" class=\"dataframe\">\n",
       "  <thead>\n",
       "    <tr style=\"text-align: right;\">\n",
       "      <th></th>\n",
       "      <th>Year_of_publication</th>\n",
       "      <th>Number_of_citations</th>\n",
       "      <th>index</th>\n",
       "      <th>global</th>\n",
       "      <th>wrapper</th>\n",
       "      <th>local</th>\n",
       "      <th>chain_of_seeds</th>\n",
       "      <th>technology</th>\n",
       "      <th>age</th>\n",
       "      <th>citation_per_year</th>\n",
       "      <th>index2</th>\n",
       "    </tr>\n",
       "  </thead>\n",
       "  <tbody>\n",
       "    <tr>\n",
       "      <th>40</th>\n",
       "      <td>2010</td>\n",
       "      <td>58.0</td>\n",
       "      <td>hashing</td>\n",
       "      <td>seed</td>\n",
       "      <td>N</td>\n",
       "      <td>No Alignment</td>\n",
       "      <td>N</td>\n",
       "      <td>RNA-Seq</td>\n",
       "      <td>10</td>\n",
       "      <td>5.800000</td>\n",
       "      <td>hashing</td>\n",
       "    </tr>\n",
       "    <tr>\n",
       "      <th>46</th>\n",
       "      <td>2011</td>\n",
       "      <td>112.0</td>\n",
       "      <td>BWT-FM</td>\n",
       "      <td>seed</td>\n",
       "      <td>N</td>\n",
       "      <td>Non-DP heuristic</td>\n",
       "      <td>N</td>\n",
       "      <td>RNA-Seq</td>\n",
       "      <td>9</td>\n",
       "      <td>12.444444</td>\n",
       "      <td>FM-index</td>\n",
       "    </tr>\n",
       "    <tr>\n",
       "      <th>55</th>\n",
       "      <td>2012</td>\n",
       "      <td>72.0</td>\n",
       "      <td>hashing</td>\n",
       "      <td>chain of seeds</td>\n",
       "      <td>N</td>\n",
       "      <td>NaN</td>\n",
       "      <td>N</td>\n",
       "      <td>RNA-Seq</td>\n",
       "      <td>8</td>\n",
       "      <td>9.000000</td>\n",
       "      <td>hashing</td>\n",
       "    </tr>\n",
       "    <tr>\n",
       "      <th>64</th>\n",
       "      <td>2013</td>\n",
       "      <td>60.0</td>\n",
       "      <td>BWT-FM</td>\n",
       "      <td>seed</td>\n",
       "      <td>N</td>\n",
       "      <td>Non-DP heuristic</td>\n",
       "      <td>N</td>\n",
       "      <td>RNA-Seq</td>\n",
       "      <td>7</td>\n",
       "      <td>8.571429</td>\n",
       "      <td>FM-index</td>\n",
       "    </tr>\n",
       "    <tr>\n",
       "      <th>68</th>\n",
       "      <td>2013</td>\n",
       "      <td>6021.0</td>\n",
       "      <td>suffix array</td>\n",
       "      <td>seed</td>\n",
       "      <td>N</td>\n",
       "      <td>Local</td>\n",
       "      <td>N</td>\n",
       "      <td>RNA-Seq</td>\n",
       "      <td>7</td>\n",
       "      <td>860.142857</td>\n",
       "      <td>Other suffix tree structure</td>\n",
       "    </tr>\n",
       "    <tr>\n",
       "      <th>69</th>\n",
       "      <td>2013</td>\n",
       "      <td>775.0</td>\n",
       "      <td>hashing</td>\n",
       "      <td>seed</td>\n",
       "      <td>N</td>\n",
       "      <td>Local</td>\n",
       "      <td>N</td>\n",
       "      <td>RNA-Seq</td>\n",
       "      <td>7</td>\n",
       "      <td>110.714286</td>\n",
       "      <td>hashing</td>\n",
       "    </tr>\n",
       "    <tr>\n",
       "      <th>79</th>\n",
       "      <td>2015</td>\n",
       "      <td>1611.0</td>\n",
       "      <td>BWT-FM</td>\n",
       "      <td>Backward Search</td>\n",
       "      <td>N</td>\n",
       "      <td>hamming distance</td>\n",
       "      <td>N</td>\n",
       "      <td>RNA-Seq</td>\n",
       "      <td>5</td>\n",
       "      <td>322.200000</td>\n",
       "      <td>FM-index</td>\n",
       "    </tr>\n",
       "    <tr>\n",
       "      <th>86</th>\n",
       "      <td>2017</td>\n",
       "      <td>3.0</td>\n",
       "      <td>BWT-FM</td>\n",
       "      <td>Backward Search</td>\n",
       "      <td>N</td>\n",
       "      <td>Global</td>\n",
       "      <td>N</td>\n",
       "      <td>RNA-Seq</td>\n",
       "      <td>3</td>\n",
       "      <td>1.000000</td>\n",
       "      <td>FM-index</td>\n",
       "    </tr>\n",
       "    <tr>\n",
       "      <th>91</th>\n",
       "      <td>2019</td>\n",
       "      <td>NaN</td>\n",
       "      <td>hashing</td>\n",
       "      <td>seed</td>\n",
       "      <td>N</td>\n",
       "      <td>Local</td>\n",
       "      <td>N</td>\n",
       "      <td>RNA-Seq</td>\n",
       "      <td>1</td>\n",
       "      <td>NaN</td>\n",
       "      <td>hashing</td>\n",
       "    </tr>\n",
       "  </tbody>\n",
       "</table>\n",
       "</div>"
      ],
      "text/plain": [
       "    Year_of_publication  Number_of_citations         index           global  \\\n",
       "40                 2010                 58.0       hashing             seed   \n",
       "46                 2011                112.0        BWT-FM             seed   \n",
       "55                 2012                 72.0       hashing   chain of seeds   \n",
       "64                 2013                 60.0        BWT-FM             seed   \n",
       "68                 2013               6021.0  suffix array             seed   \n",
       "69                 2013                775.0       hashing             seed   \n",
       "79                 2015               1611.0        BWT-FM  Backward Search   \n",
       "86                 2017                  3.0        BWT-FM  Backward Search   \n",
       "91                 2019                  NaN       hashing             seed   \n",
       "\n",
       "   wrapper             local chain_of_seeds technology  age  \\\n",
       "40       N      No Alignment              N    RNA-Seq   10   \n",
       "46       N  Non-DP heuristic              N    RNA-Seq    9   \n",
       "55       N               NaN              N    RNA-Seq    8   \n",
       "64       N  Non-DP heuristic              N    RNA-Seq    7   \n",
       "68       N             Local              N    RNA-Seq    7   \n",
       "69       N             Local              N    RNA-Seq    7   \n",
       "79       N  hamming distance              N    RNA-Seq    5   \n",
       "86       N            Global              N    RNA-Seq    3   \n",
       "91       N             Local              N    RNA-Seq    1   \n",
       "\n",
       "    citation_per_year                       index2  \n",
       "40           5.800000                      hashing  \n",
       "46          12.444444                     FM-index  \n",
       "55           9.000000                      hashing  \n",
       "64           8.571429                     FM-index  \n",
       "68         860.142857  Other suffix tree structure  \n",
       "69         110.714286                      hashing  \n",
       "79         322.200000                     FM-index  \n",
       "86           1.000000                     FM-index  \n",
       "91                NaN                      hashing  "
      ]
     },
     "execution_count": 147,
     "metadata": {},
     "output_type": "execute_result"
    }
   ],
   "source": [
    "data_RNA_notWrapper=data_RNA.loc[data_RNA['wrapper'] != 'Y']\n",
    "data_RNA_notWrapper"
   ]
  },
  {
   "cell_type": "code",
   "execution_count": 148,
   "metadata": {},
   "outputs": [
    {
     "data": {
      "text/html": [
       "<div>\n",
       "<style scoped>\n",
       "    .dataframe tbody tr th:only-of-type {\n",
       "        vertical-align: middle;\n",
       "    }\n",
       "\n",
       "    .dataframe tbody tr th {\n",
       "        vertical-align: top;\n",
       "    }\n",
       "\n",
       "    .dataframe thead th {\n",
       "        text-align: right;\n",
       "    }\n",
       "</style>\n",
       "<table border=\"1\" class=\"dataframe\">\n",
       "  <thead>\n",
       "    <tr style=\"text-align: right;\">\n",
       "      <th></th>\n",
       "      <th>index</th>\n",
       "      <th>counts</th>\n",
       "    </tr>\n",
       "  </thead>\n",
       "  <tbody>\n",
       "    <tr>\n",
       "      <th>0</th>\n",
       "      <td>hashing</td>\n",
       "      <td>0.444444</td>\n",
       "    </tr>\n",
       "    <tr>\n",
       "      <th>1</th>\n",
       "      <td>FM-index</td>\n",
       "      <td>0.444444</td>\n",
       "    </tr>\n",
       "    <tr>\n",
       "      <th>2</th>\n",
       "      <td>Other suffix tree structure</td>\n",
       "      <td>0.111111</td>\n",
       "    </tr>\n",
       "  </tbody>\n",
       "</table>\n",
       "</div>"
      ],
      "text/plain": [
       "                         index    counts\n",
       "0                      hashing  0.444444\n",
       "1                     FM-index  0.444444\n",
       "2  Other suffix tree structure  0.111111"
      ]
     },
     "execution_count": 148,
     "metadata": {},
     "output_type": "execute_result"
    }
   ],
   "source": [
    "value_counts=data_RNA_notWrapper['index2'].value_counts(normalize=True)\n",
    "data_index_RNA_notWrapper = pd.DataFrame(value_counts)\n",
    "data_index_RNA_notWrapper = data_index_RNA_notWrapper.reset_index()\n",
    "data_index_RNA_notWrapper.columns = ['index', 'counts'] # change column names\n",
    "data_index_RNA_notWrapper.head()"
   ]
  },
  {
   "cell_type": "code",
   "execution_count": 149,
   "metadata": {},
   "outputs": [
    {
     "data": {
      "image/png": "[encoded data removed]",
      "text/plain": [
       "<Figure size 432x288 with 1 Axes>"
      ]
     },
     "metadata": {},
     "output_type": "display_data"
    }
   ],
   "source": [
    "import matplotlib.pyplot as plt\n",
    "import seaborn as sns\n",
    "g=sns.set_style(\"white\")\n",
    "g=sns.set_context(\"talk\")\n",
    "g=sns.barplot(x=\"counts\", y=\"index\", data=data_index_RNA_notWrapper)\n",
    "g.set(xlabel='Percentage RNA-Seq alignment methods (not wrappers) (%)', ylabel='Indexing algorithm')\n",
    "g=sns.despine()\n",
    "#plt.show(g)\n",
    "plt.savefig(\"Figure_1_panels/index_barplot_RNASeq_notWraper.png\", bbox_inches='tight')"
   ]
  },
  {
   "cell_type": "code",
   "execution_count": 161,
   "metadata": {},
   "outputs": [
    {
     "data": {
      "text/html": [
       "<div>\n",
       "<style scoped>\n",
       "    .dataframe tbody tr th:only-of-type {\n",
       "        vertical-align: middle;\n",
       "    }\n",
       "\n",
       "    .dataframe tbody tr th {\n",
       "        vertical-align: top;\n",
       "    }\n",
       "\n",
       "    .dataframe thead th {\n",
       "        text-align: right;\n",
       "    }\n",
       "</style>\n",
       "<table border=\"1\" class=\"dataframe\">\n",
       "  <thead>\n",
       "    <tr style=\"text-align: right;\">\n",
       "      <th></th>\n",
       "      <th>Year_of_publication</th>\n",
       "      <th>Number_of_citations</th>\n",
       "      <th>index</th>\n",
       "      <th>global</th>\n",
       "      <th>wrapper</th>\n",
       "      <th>local</th>\n",
       "      <th>chain_of_seeds</th>\n",
       "      <th>technology</th>\n",
       "      <th>age</th>\n",
       "      <th>citation_per_year</th>\n",
       "      <th>index2</th>\n",
       "    </tr>\n",
       "  </thead>\n",
       "  <tbody>\n",
       "    <tr>\n",
       "      <th>15</th>\n",
       "      <td>2009</td>\n",
       "      <td>62.0</td>\n",
       "      <td>hashing</td>\n",
       "      <td>seed</td>\n",
       "      <td>N</td>\n",
       "      <td>Hamming Distance</td>\n",
       "      <td>N</td>\n",
       "      <td>Bisulfite</td>\n",
       "      <td>11</td>\n",
       "      <td>5.636364</td>\n",
       "      <td>hashing</td>\n",
       "    </tr>\n",
       "    <tr>\n",
       "      <th>16</th>\n",
       "      <td>2009</td>\n",
       "      <td>475.0</td>\n",
       "      <td>hashing</td>\n",
       "      <td>seed</td>\n",
       "      <td>N</td>\n",
       "      <td>Hamming Distance</td>\n",
       "      <td>N</td>\n",
       "      <td>Bisulfite</td>\n",
       "      <td>11</td>\n",
       "      <td>43.181818</td>\n",
       "      <td>hashing</td>\n",
       "    </tr>\n",
       "    <tr>\n",
       "      <th>53</th>\n",
       "      <td>2012</td>\n",
       "      <td>65.0</td>\n",
       "      <td>BWT-FM</td>\n",
       "      <td>Backward Search</td>\n",
       "      <td>N</td>\n",
       "      <td>Hamming Distance</td>\n",
       "      <td>N</td>\n",
       "      <td>Bisulfite</td>\n",
       "      <td>8</td>\n",
       "      <td>8.125000</td>\n",
       "      <td>FM-index</td>\n",
       "    </tr>\n",
       "  </tbody>\n",
       "</table>\n",
       "</div>"
      ],
      "text/plain": [
       "    Year_of_publication  Number_of_citations    index           global  \\\n",
       "15                 2009                 62.0  hashing             seed   \n",
       "16                 2009                475.0  hashing             seed   \n",
       "53                 2012                 65.0   BWT-FM  Backward Search   \n",
       "\n",
       "   wrapper             local chain_of_seeds technology  age  \\\n",
       "15       N  Hamming Distance              N  Bisulfite   11   \n",
       "16       N  Hamming Distance              N  Bisulfite   11   \n",
       "53       N  Hamming Distance              N  Bisulfite    8   \n",
       "\n",
       "    citation_per_year    index2  \n",
       "15           5.636364   hashing  \n",
       "16          43.181818   hashing  \n",
       "53           8.125000  FM-index  "
      ]
     },
     "execution_count": 161,
     "metadata": {},
     "output_type": "execute_result"
    }
   ],
   "source": [
    "data_BS_notWrapper=data_BS.loc[data_BS['wrapper'] != 'Y']\n",
    "data_BS_notWrapper"
   ]
  },
  {
   "cell_type": "code",
   "execution_count": 163,
   "metadata": {},
   "outputs": [
    {
     "data": {
      "text/html": [
       "<div>\n",
       "<style scoped>\n",
       "    .dataframe tbody tr th:only-of-type {\n",
       "        vertical-align: middle;\n",
       "    }\n",
       "\n",
       "    .dataframe tbody tr th {\n",
       "        vertical-align: top;\n",
       "    }\n",
       "\n",
       "    .dataframe thead th {\n",
       "        text-align: right;\n",
       "    }\n",
       "</style>\n",
       "<table border=\"1\" class=\"dataframe\">\n",
       "  <thead>\n",
       "    <tr style=\"text-align: right;\">\n",
       "      <th></th>\n",
       "      <th>index</th>\n",
       "      <th>counts</th>\n",
       "    </tr>\n",
       "  </thead>\n",
       "  <tbody>\n",
       "    <tr>\n",
       "      <th>0</th>\n",
       "      <td>hashing</td>\n",
       "      <td>0.666667</td>\n",
       "    </tr>\n",
       "    <tr>\n",
       "      <th>1</th>\n",
       "      <td>FM-index</td>\n",
       "      <td>0.333333</td>\n",
       "    </tr>\n",
       "  </tbody>\n",
       "</table>\n",
       "</div>"
      ],
      "text/plain": [
       "      index    counts\n",
       "0   hashing  0.666667\n",
       "1  FM-index  0.333333"
      ]
     },
     "execution_count": 163,
     "metadata": {},
     "output_type": "execute_result"
    }
   ],
   "source": [
    "value_counts=data_BS_notWrapper['index2'].value_counts(normalize=True)\n",
    "data_index_BS_notWrapper = pd.DataFrame(value_counts)\n",
    "data_index_BS_notWrapper = data_index_BS_notWrapper.reset_index()\n",
    "data_index_BS_notWrapper.columns = ['index', 'counts'] # change column names\n",
    "data_index_BS_notWrapper.head()"
   ]
  },
  {
   "cell_type": "code",
   "execution_count": 165,
   "metadata": {},
   "outputs": [
    {
     "data": {
      "image/png": "[encoded data removed]",
      "text/plain": [
       "<Figure size 432x288 with 1 Axes>"
      ]
     },
     "metadata": {},
     "output_type": "display_data"
    }
   ],
   "source": [
    "import matplotlib.pyplot as plt\n",
    "import seaborn as sns\n",
    "g=sns.set_style(\"white\")\n",
    "g=sns.set_context(\"talk\")\n",
    "g=sns.barplot(x=\"counts\", y=\"index\", data=data_index_BS_notWrapper)\n",
    "g.set(xlabel='Percentage BS-Seq alignment methods (not wrappers) (%)', ylabel='Indexing algorithm')\n",
    "g=sns.despine()\n",
    "#plt.show(g)\n",
    "plt.savefig(\"Figure_1_panels/index_barplot_BSSeq_notWraper.png\", bbox_inches='tight')"
   ]
  },
  {
   "cell_type": "code",
   "execution_count": 83,
   "metadata": {},
   "outputs": [
    {
     "data": {
      "text/html": [
       "<div>\n",
       "<style scoped>\n",
       "    .dataframe tbody tr th:only-of-type {\n",
       "        vertical-align: middle;\n",
       "    }\n",
       "\n",
       "    .dataframe tbody tr th {\n",
       "        vertical-align: top;\n",
       "    }\n",
       "\n",
       "    .dataframe thead th {\n",
       "        text-align: right;\n",
       "    }\n",
       "</style>\n",
       "<table border=\"1\" class=\"dataframe\">\n",
       "  <thead>\n",
       "    <tr style=\"text-align: right;\">\n",
       "      <th></th>\n",
       "      <th>technology</th>\n",
       "      <th>counts</th>\n",
       "    </tr>\n",
       "  </thead>\n",
       "  <tbody>\n",
       "    <tr>\n",
       "      <th>0</th>\n",
       "      <td>DNA</td>\n",
       "      <td>0.717391</td>\n",
       "    </tr>\n",
       "    <tr>\n",
       "      <th>1</th>\n",
       "      <td>RNA-Seq</td>\n",
       "      <td>0.173913</td>\n",
       "    </tr>\n",
       "    <tr>\n",
       "      <th>2</th>\n",
       "      <td>Bisulfite</td>\n",
       "      <td>0.065217</td>\n",
       "    </tr>\n",
       "    <tr>\n",
       "      <th>3</th>\n",
       "      <td>DNA/RNA-Seq</td>\n",
       "      <td>0.021739</td>\n",
       "    </tr>\n",
       "    <tr>\n",
       "      <th>4</th>\n",
       "      <td>RNA-seq</td>\n",
       "      <td>0.010870</td>\n",
       "    </tr>\n",
       "  </tbody>\n",
       "</table>\n",
       "</div>"
      ],
      "text/plain": [
       "    technology    counts\n",
       "0          DNA  0.717391\n",
       "1      RNA-Seq  0.173913\n",
       "2    Bisulfite  0.065217\n",
       "3  DNA/RNA-Seq  0.021739\n",
       "4      RNA-seq  0.010870"
      ]
     },
     "execution_count": 83,
     "metadata": {},
     "output_type": "execute_result"
    }
   ],
   "source": [
    "value_counts=data['Technology'].value_counts(normalize=True)\n",
    "data_technology = pd.DataFrame(value_counts)\n",
    "data_technology = data_technology.reset_index()\n",
    "data_technology.columns = ['technology', 'counts'] # change column names\n",
    "data_technology.head()"
   ]
  },
  {
   "cell_type": "markdown",
   "metadata": {},
   "source": [
    "# Technology "
   ]
  },
  {
   "cell_type": "markdown",
   "metadata": {},
   "source": [
    "# Index"
   ]
  },
  {
   "cell_type": "code",
   "execution_count": 84,
   "metadata": {},
   "outputs": [],
   "source": [
    "n=data.shape[0]\n",
    "\n",
    "n_hashing=data.loc[data['Indexing_algorithm'] == 'hashing'].shape[0]\n",
    "n_FM=data.loc[data['Indexing_algorithm'] == 'BWT-FM'].shape[0]\n",
    "n_ST=data.loc[data['Indexing_algorithm'] != 'hashing'].shape[0]-n_FM\n",
    "\n"
   ]
  },
  {
   "cell_type": "code",
   "execution_count": 85,
   "metadata": {},
   "outputs": [
    {
     "data": {
      "image/png": "[encoded data removed]",
      "text/plain": [
       "<Figure size 432x288 with 1 Axes>"
      ]
     },
     "metadata": {},
     "output_type": "display_data"
    }
   ],
   "source": [
    "import matplotlib as mpl\n",
    "import pylab as pl\n",
    "\n",
    "mpl.rcParams['font.size'] = 14\n",
    "labels = 'hashing', 'FM-index','Other suffix tree or array'\n",
    "sizes = [n_hashing, n_FM,n_ST]\n",
    "values = [my_colors.red, my_colors.orange, my_colors.blue, 'grey']\n",
    "fig1, ax1 = pl.subplots()\n",
    "\n",
    "ax1.set_title(\"Genome indexing\", fontsize=20)\n",
    "patches, texts, autotexts= ax1.pie(sizes, labels=labels, autopct='%1.1f%%',\n",
    "        shadow=True, startangle=90, colors = values)\n",
    "ax1.axis('equal')  # Equal aspect ratio ensures that pie is drawn as a circle.\n",
    "texts[0].set_fontsize(18)\n",
    "texts[1].set_fontsize(18)\n",
    "texts[1].set_fontsize(18)\n",
    "\n",
    "pl.savefig('Figure_1_panels/Index_pie.pdf')"
   ]
  },
  {
   "cell_type": "markdown",
   "metadata": {},
   "source": [
    "# Global"
   ]
  },
  {
   "cell_type": "code",
   "execution_count": 89,
   "metadata": {},
   "outputs": [
    {
     "ename": "KeyError",
     "evalue": "'global'",
     "output_type": "error",
     "traceback": [
      "\u001b[0;31m---------------------------------------------------------------------------\u001b[0m",
      "\u001b[0;31mKeyError\u001b[0m                                  Traceback (most recent call last)",
      "\u001b[0;32m~/anaconda3/lib/python3.7/site-packages/pandas/core/indexes/base.py\u001b[0m in \u001b[0;36mget_loc\u001b[0;34m(self, key, method, tolerance)\u001b[0m\n\u001b[1;32m   3077\u001b[0m             \u001b[0;32mtry\u001b[0m\u001b[0;34m:\u001b[0m\u001b[0;34m\u001b[0m\u001b[0;34m\u001b[0m\u001b[0m\n\u001b[0;32m-> 3078\u001b[0;31m                 \u001b[0;32mreturn\u001b[0m \u001b[0mself\u001b[0m\u001b[0;34m.\u001b[0m\u001b[0m_engine\u001b[0m\u001b[0;34m.\u001b[0m\u001b[0mget_loc\u001b[0m\u001b[0;34m(\u001b[0m\u001b[0mkey\u001b[0m\u001b[0;34m)\u001b[0m\u001b[0;34m\u001b[0m\u001b[0;34m\u001b[0m\u001b[0m\n\u001b[0m\u001b[1;32m   3079\u001b[0m             \u001b[0;32mexcept\u001b[0m \u001b[0mKeyError\u001b[0m\u001b[0;34m:\u001b[0m\u001b[0;34m\u001b[0m\u001b[0;34m\u001b[0m\u001b[0m\n",
      "\u001b[0;32mpandas/_libs/index.pyx\u001b[0m in \u001b[0;36mpandas._libs.index.IndexEngine.get_loc\u001b[0;34m()\u001b[0m\n",
      "\u001b[0;32mpandas/_libs/index.pyx\u001b[0m in \u001b[0;36mpandas._libs.index.IndexEngine.get_loc\u001b[0;34m()\u001b[0m\n",
      "\u001b[0;32mpandas/_libs/hashtable_class_helper.pxi\u001b[0m in \u001b[0;36mpandas._libs.hashtable.PyObjectHashTable.get_item\u001b[0;34m()\u001b[0m\n",
      "\u001b[0;32mpandas/_libs/hashtable_class_helper.pxi\u001b[0m in \u001b[0;36mpandas._libs.hashtable.PyObjectHashTable.get_item\u001b[0;34m()\u001b[0m\n",
      "\u001b[0;31mKeyError\u001b[0m: 'global'",
      "\nDuring handling of the above exception, another exception occurred:\n",
      "\u001b[0;31mKeyError\u001b[0m                                  Traceback (most recent call last)",
      "\u001b[0;32m<ipython-input-89-083a9575dc55>\u001b[0m in \u001b[0;36m<module>\u001b[0;34m\u001b[0m\n\u001b[1;32m      1\u001b[0m \u001b[0mn\u001b[0m\u001b[0;34m=\u001b[0m\u001b[0mdata\u001b[0m\u001b[0;34m.\u001b[0m\u001b[0mshape\u001b[0m\u001b[0;34m[\u001b[0m\u001b[0;36m0\u001b[0m\u001b[0;34m]\u001b[0m\u001b[0;34m\u001b[0m\u001b[0;34m\u001b[0m\u001b[0m\n\u001b[1;32m      2\u001b[0m \u001b[0;34m\u001b[0m\u001b[0m\n\u001b[0;32m----> 3\u001b[0;31m \u001b[0mn_seed\u001b[0m\u001b[0;34m=\u001b[0m\u001b[0mdata\u001b[0m\u001b[0;34m.\u001b[0m\u001b[0mloc\u001b[0m\u001b[0;34m[\u001b[0m\u001b[0mdata\u001b[0m\u001b[0;34m[\u001b[0m\u001b[0;34m'global'\u001b[0m\u001b[0;34m]\u001b[0m \u001b[0;34m==\u001b[0m \u001b[0;34m'seed'\u001b[0m\u001b[0;34m]\u001b[0m\u001b[0;34m.\u001b[0m\u001b[0mshape\u001b[0m\u001b[0;34m[\u001b[0m\u001b[0;36m0\u001b[0m\u001b[0;34m]\u001b[0m\u001b[0;34m\u001b[0m\u001b[0;34m\u001b[0m\u001b[0m\n\u001b[0m\u001b[1;32m      4\u001b[0m \u001b[0mn_BS\u001b[0m\u001b[0;34m=\u001b[0m\u001b[0mdata\u001b[0m\u001b[0;34m.\u001b[0m\u001b[0mloc\u001b[0m\u001b[0;34m[\u001b[0m\u001b[0mdata\u001b[0m\u001b[0;34m[\u001b[0m\u001b[0;34m'global'\u001b[0m\u001b[0;34m]\u001b[0m \u001b[0;34m==\u001b[0m \u001b[0;34m'Backward Search'\u001b[0m\u001b[0;34m]\u001b[0m\u001b[0;34m.\u001b[0m\u001b[0mshape\u001b[0m\u001b[0;34m[\u001b[0m\u001b[0;36m0\u001b[0m\u001b[0;34m]\u001b[0m\u001b[0;34m\u001b[0m\u001b[0;34m\u001b[0m\u001b[0m\n\u001b[1;32m      5\u001b[0m \u001b[0;34m\u001b[0m\u001b[0m\n",
      "\u001b[0;32m~/anaconda3/lib/python3.7/site-packages/pandas/core/frame.py\u001b[0m in \u001b[0;36m__getitem__\u001b[0;34m(self, key)\u001b[0m\n\u001b[1;32m   2686\u001b[0m             \u001b[0;32mreturn\u001b[0m \u001b[0mself\u001b[0m\u001b[0;34m.\u001b[0m\u001b[0m_getitem_multilevel\u001b[0m\u001b[0;34m(\u001b[0m\u001b[0mkey\u001b[0m\u001b[0;34m)\u001b[0m\u001b[0;34m\u001b[0m\u001b[0;34m\u001b[0m\u001b[0m\n\u001b[1;32m   2687\u001b[0m         \u001b[0;32melse\u001b[0m\u001b[0;34m:\u001b[0m\u001b[0;34m\u001b[0m\u001b[0;34m\u001b[0m\u001b[0m\n\u001b[0;32m-> 2688\u001b[0;31m             \u001b[0;32mreturn\u001b[0m \u001b[0mself\u001b[0m\u001b[0;34m.\u001b[0m\u001b[0m_getitem_column\u001b[0m\u001b[0;34m(\u001b[0m\u001b[0mkey\u001b[0m\u001b[0;34m)\u001b[0m\u001b[0;34m\u001b[0m\u001b[0;34m\u001b[0m\u001b[0m\n\u001b[0m\u001b[1;32m   2689\u001b[0m \u001b[0;34m\u001b[0m\u001b[0m\n\u001b[1;32m   2690\u001b[0m     \u001b[0;32mdef\u001b[0m \u001b[0m_getitem_column\u001b[0m\u001b[0;34m(\u001b[0m\u001b[0mself\u001b[0m\u001b[0;34m,\u001b[0m \u001b[0mkey\u001b[0m\u001b[0;34m)\u001b[0m\u001b[0;34m:\u001b[0m\u001b[0;34m\u001b[0m\u001b[0;34m\u001b[0m\u001b[0m\n",
      "\u001b[0;32m~/anaconda3/lib/python3.7/site-packages/pandas/core/frame.py\u001b[0m in \u001b[0;36m_getitem_column\u001b[0;34m(self, key)\u001b[0m\n\u001b[1;32m   2693\u001b[0m         \u001b[0;31m# get column\u001b[0m\u001b[0;34m\u001b[0m\u001b[0;34m\u001b[0m\u001b[0;34m\u001b[0m\u001b[0m\n\u001b[1;32m   2694\u001b[0m         \u001b[0;32mif\u001b[0m \u001b[0mself\u001b[0m\u001b[0;34m.\u001b[0m\u001b[0mcolumns\u001b[0m\u001b[0;34m.\u001b[0m\u001b[0mis_unique\u001b[0m\u001b[0;34m:\u001b[0m\u001b[0;34m\u001b[0m\u001b[0;34m\u001b[0m\u001b[0m\n\u001b[0;32m-> 2695\u001b[0;31m             \u001b[0;32mreturn\u001b[0m \u001b[0mself\u001b[0m\u001b[0;34m.\u001b[0m\u001b[0m_get_item_cache\u001b[0m\u001b[0;34m(\u001b[0m\u001b[0mkey\u001b[0m\u001b[0;34m)\u001b[0m\u001b[0;34m\u001b[0m\u001b[0;34m\u001b[0m\u001b[0m\n\u001b[0m\u001b[1;32m   2696\u001b[0m \u001b[0;34m\u001b[0m\u001b[0m\n\u001b[1;32m   2697\u001b[0m         \u001b[0;31m# duplicate columns & possible reduce dimensionality\u001b[0m\u001b[0;34m\u001b[0m\u001b[0;34m\u001b[0m\u001b[0;34m\u001b[0m\u001b[0m\n",
      "\u001b[0;32m~/anaconda3/lib/python3.7/site-packages/pandas/core/generic.py\u001b[0m in \u001b[0;36m_get_item_cache\u001b[0;34m(self, item)\u001b[0m\n\u001b[1;32m   2487\u001b[0m         \u001b[0mres\u001b[0m \u001b[0;34m=\u001b[0m \u001b[0mcache\u001b[0m\u001b[0;34m.\u001b[0m\u001b[0mget\u001b[0m\u001b[0;34m(\u001b[0m\u001b[0mitem\u001b[0m\u001b[0;34m)\u001b[0m\u001b[0;34m\u001b[0m\u001b[0;34m\u001b[0m\u001b[0m\n\u001b[1;32m   2488\u001b[0m         \u001b[0;32mif\u001b[0m \u001b[0mres\u001b[0m \u001b[0;32mis\u001b[0m \u001b[0;32mNone\u001b[0m\u001b[0;34m:\u001b[0m\u001b[0;34m\u001b[0m\u001b[0;34m\u001b[0m\u001b[0m\n\u001b[0;32m-> 2489\u001b[0;31m             \u001b[0mvalues\u001b[0m \u001b[0;34m=\u001b[0m \u001b[0mself\u001b[0m\u001b[0;34m.\u001b[0m\u001b[0m_data\u001b[0m\u001b[0;34m.\u001b[0m\u001b[0mget\u001b[0m\u001b[0;34m(\u001b[0m\u001b[0mitem\u001b[0m\u001b[0;34m)\u001b[0m\u001b[0;34m\u001b[0m\u001b[0;34m\u001b[0m\u001b[0m\n\u001b[0m\u001b[1;32m   2490\u001b[0m             \u001b[0mres\u001b[0m \u001b[0;34m=\u001b[0m \u001b[0mself\u001b[0m\u001b[0;34m.\u001b[0m\u001b[0m_box_item_values\u001b[0m\u001b[0;34m(\u001b[0m\u001b[0mitem\u001b[0m\u001b[0;34m,\u001b[0m \u001b[0mvalues\u001b[0m\u001b[0;34m)\u001b[0m\u001b[0;34m\u001b[0m\u001b[0;34m\u001b[0m\u001b[0m\n\u001b[1;32m   2491\u001b[0m             \u001b[0mcache\u001b[0m\u001b[0;34m[\u001b[0m\u001b[0mitem\u001b[0m\u001b[0;34m]\u001b[0m \u001b[0;34m=\u001b[0m \u001b[0mres\u001b[0m\u001b[0;34m\u001b[0m\u001b[0;34m\u001b[0m\u001b[0m\n",
      "\u001b[0;32m~/anaconda3/lib/python3.7/site-packages/pandas/core/internals.py\u001b[0m in \u001b[0;36mget\u001b[0;34m(self, item, fastpath)\u001b[0m\n\u001b[1;32m   4113\u001b[0m \u001b[0;34m\u001b[0m\u001b[0m\n\u001b[1;32m   4114\u001b[0m             \u001b[0;32mif\u001b[0m \u001b[0;32mnot\u001b[0m \u001b[0misna\u001b[0m\u001b[0;34m(\u001b[0m\u001b[0mitem\u001b[0m\u001b[0;34m)\u001b[0m\u001b[0;34m:\u001b[0m\u001b[0;34m\u001b[0m\u001b[0;34m\u001b[0m\u001b[0m\n\u001b[0;32m-> 4115\u001b[0;31m                 \u001b[0mloc\u001b[0m \u001b[0;34m=\u001b[0m \u001b[0mself\u001b[0m\u001b[0;34m.\u001b[0m\u001b[0mitems\u001b[0m\u001b[0;34m.\u001b[0m\u001b[0mget_loc\u001b[0m\u001b[0;34m(\u001b[0m\u001b[0mitem\u001b[0m\u001b[0;34m)\u001b[0m\u001b[0;34m\u001b[0m\u001b[0;34m\u001b[0m\u001b[0m\n\u001b[0m\u001b[1;32m   4116\u001b[0m             \u001b[0;32melse\u001b[0m\u001b[0;34m:\u001b[0m\u001b[0;34m\u001b[0m\u001b[0;34m\u001b[0m\u001b[0m\n\u001b[1;32m   4117\u001b[0m                 \u001b[0mindexer\u001b[0m \u001b[0;34m=\u001b[0m \u001b[0mnp\u001b[0m\u001b[0;34m.\u001b[0m\u001b[0marange\u001b[0m\u001b[0;34m(\u001b[0m\u001b[0mlen\u001b[0m\u001b[0;34m(\u001b[0m\u001b[0mself\u001b[0m\u001b[0;34m.\u001b[0m\u001b[0mitems\u001b[0m\u001b[0;34m)\u001b[0m\u001b[0;34m)\u001b[0m\u001b[0;34m[\u001b[0m\u001b[0misna\u001b[0m\u001b[0;34m(\u001b[0m\u001b[0mself\u001b[0m\u001b[0;34m.\u001b[0m\u001b[0mitems\u001b[0m\u001b[0;34m)\u001b[0m\u001b[0;34m]\u001b[0m\u001b[0;34m\u001b[0m\u001b[0;34m\u001b[0m\u001b[0m\n",
      "\u001b[0;32m~/anaconda3/lib/python3.7/site-packages/pandas/core/indexes/base.py\u001b[0m in \u001b[0;36mget_loc\u001b[0;34m(self, key, method, tolerance)\u001b[0m\n\u001b[1;32m   3078\u001b[0m                 \u001b[0;32mreturn\u001b[0m \u001b[0mself\u001b[0m\u001b[0;34m.\u001b[0m\u001b[0m_engine\u001b[0m\u001b[0;34m.\u001b[0m\u001b[0mget_loc\u001b[0m\u001b[0;34m(\u001b[0m\u001b[0mkey\u001b[0m\u001b[0;34m)\u001b[0m\u001b[0;34m\u001b[0m\u001b[0;34m\u001b[0m\u001b[0m\n\u001b[1;32m   3079\u001b[0m             \u001b[0;32mexcept\u001b[0m \u001b[0mKeyError\u001b[0m\u001b[0;34m:\u001b[0m\u001b[0;34m\u001b[0m\u001b[0;34m\u001b[0m\u001b[0m\n\u001b[0;32m-> 3080\u001b[0;31m                 \u001b[0;32mreturn\u001b[0m \u001b[0mself\u001b[0m\u001b[0;34m.\u001b[0m\u001b[0m_engine\u001b[0m\u001b[0;34m.\u001b[0m\u001b[0mget_loc\u001b[0m\u001b[0;34m(\u001b[0m\u001b[0mself\u001b[0m\u001b[0;34m.\u001b[0m\u001b[0m_maybe_cast_indexer\u001b[0m\u001b[0;34m(\u001b[0m\u001b[0mkey\u001b[0m\u001b[0;34m)\u001b[0m\u001b[0;34m)\u001b[0m\u001b[0;34m\u001b[0m\u001b[0;34m\u001b[0m\u001b[0m\n\u001b[0m\u001b[1;32m   3081\u001b[0m \u001b[0;34m\u001b[0m\u001b[0m\n\u001b[1;32m   3082\u001b[0m         \u001b[0mindexer\u001b[0m \u001b[0;34m=\u001b[0m \u001b[0mself\u001b[0m\u001b[0;34m.\u001b[0m\u001b[0mget_indexer\u001b[0m\u001b[0;34m(\u001b[0m\u001b[0;34m[\u001b[0m\u001b[0mkey\u001b[0m\u001b[0;34m]\u001b[0m\u001b[0;34m,\u001b[0m \u001b[0mmethod\u001b[0m\u001b[0;34m=\u001b[0m\u001b[0mmethod\u001b[0m\u001b[0;34m,\u001b[0m \u001b[0mtolerance\u001b[0m\u001b[0;34m=\u001b[0m\u001b[0mtolerance\u001b[0m\u001b[0;34m)\u001b[0m\u001b[0;34m\u001b[0m\u001b[0;34m\u001b[0m\u001b[0m\n",
      "\u001b[0;32mpandas/_libs/index.pyx\u001b[0m in \u001b[0;36mpandas._libs.index.IndexEngine.get_loc\u001b[0;34m()\u001b[0m\n",
      "\u001b[0;32mpandas/_libs/index.pyx\u001b[0m in \u001b[0;36mpandas._libs.index.IndexEngine.get_loc\u001b[0;34m()\u001b[0m\n",
      "\u001b[0;32mpandas/_libs/hashtable_class_helper.pxi\u001b[0m in \u001b[0;36mpandas._libs.hashtable.PyObjectHashTable.get_item\u001b[0;34m()\u001b[0m\n",
      "\u001b[0;32mpandas/_libs/hashtable_class_helper.pxi\u001b[0m in \u001b[0;36mpandas._libs.hashtable.PyObjectHashTable.get_item\u001b[0;34m()\u001b[0m\n",
      "\u001b[0;31mKeyError\u001b[0m: 'global'"
     ]
    }
   ],
   "source": [
    "n=data.shape[0]\n",
    "\n",
    "n_seed=data.loc[data['global'] == 'seed'].shape[0]\n",
    "n_BS=data.loc[data['global'] == 'Backward Search'].shape[0]\n",
    "\n",
    "print (n_seed,n_BS,n_chain)"
   ]
  },
  {
   "cell_type": "code",
   "execution_count": 90,
   "metadata": {},
   "outputs": [
    {
     "ename": "NameError",
     "evalue": "name 'n_seed' is not defined",
     "output_type": "error",
     "traceback": [
      "\u001b[0;31m---------------------------------------------------------------------------\u001b[0m",
      "\u001b[0;31mNameError\u001b[0m                                 Traceback (most recent call last)",
      "\u001b[0;32m<ipython-input-90-94117817d7e8>\u001b[0m in \u001b[0;36m<module>\u001b[0;34m\u001b[0m\n\u001b[1;32m      4\u001b[0m \u001b[0mmpl\u001b[0m\u001b[0;34m.\u001b[0m\u001b[0mrcParams\u001b[0m\u001b[0;34m[\u001b[0m\u001b[0;34m'font.size'\u001b[0m\u001b[0;34m]\u001b[0m \u001b[0;34m=\u001b[0m \u001b[0;36m14\u001b[0m\u001b[0;34m\u001b[0m\u001b[0;34m\u001b[0m\u001b[0m\n\u001b[1;32m      5\u001b[0m \u001b[0mlabels\u001b[0m \u001b[0;34m=\u001b[0m \u001b[0;34m'Seed'\u001b[0m\u001b[0;34m,\u001b[0m \u001b[0;34m'Chain of seeds'\u001b[0m\u001b[0;34m,\u001b[0m \u001b[0;34m'Backward search'\u001b[0m\u001b[0;34m\u001b[0m\u001b[0;34m\u001b[0m\u001b[0m\n\u001b[0;32m----> 6\u001b[0;31m \u001b[0msizes\u001b[0m \u001b[0;34m=\u001b[0m \u001b[0;34m[\u001b[0m\u001b[0mn_seed\u001b[0m\u001b[0;34m,\u001b[0m \u001b[0mn_BS\u001b[0m\u001b[0;34m,\u001b[0m \u001b[0mn_chain\u001b[0m\u001b[0;34m]\u001b[0m\u001b[0;34m\u001b[0m\u001b[0;34m\u001b[0m\u001b[0m\n\u001b[0m\u001b[1;32m      7\u001b[0m \u001b[0mvalues\u001b[0m \u001b[0;34m=\u001b[0m \u001b[0;34m[\u001b[0m\u001b[0mmy_colors\u001b[0m\u001b[0;34m.\u001b[0m\u001b[0mred\u001b[0m\u001b[0;34m,\u001b[0m \u001b[0mmy_colors\u001b[0m\u001b[0;34m.\u001b[0m\u001b[0morange\u001b[0m\u001b[0;34m,\u001b[0m \u001b[0mmy_colors\u001b[0m\u001b[0;34m.\u001b[0m\u001b[0mblue\u001b[0m\u001b[0;34m,\u001b[0m \u001b[0;34m'grey'\u001b[0m\u001b[0;34m]\u001b[0m\u001b[0;34m\u001b[0m\u001b[0;34m\u001b[0m\u001b[0m\n\u001b[1;32m      8\u001b[0m \u001b[0mfig1\u001b[0m\u001b[0;34m,\u001b[0m \u001b[0max1\u001b[0m \u001b[0;34m=\u001b[0m \u001b[0mpl\u001b[0m\u001b[0;34m.\u001b[0m\u001b[0msubplots\u001b[0m\u001b[0;34m(\u001b[0m\u001b[0;34m)\u001b[0m\u001b[0;34m\u001b[0m\u001b[0;34m\u001b[0m\u001b[0m\n",
      "\u001b[0;31mNameError\u001b[0m: name 'n_seed' is not defined"
     ]
    }
   ],
   "source": [
    "import matplotlib as mpl\n",
    "import pylab as pl\n",
    "\n",
    "mpl.rcParams['font.size'] = 14\n",
    "labels = 'Seed', 'Chain of seeds', 'Backward search'\n",
    "sizes = [n_seed, n_BS, n_chain]\n",
    "values = [my_colors.red, my_colors.orange, my_colors.blue, 'grey']\n",
    "fig1, ax1 = pl.subplots()\n",
    "\n",
    "ax1.set_title(\"Global aligment\", fontsize=20)\n",
    "patches, texts, autotexts= ax1.pie(sizes, labels=labels, autopct='%1.1f%%',\n",
    "        shadow=True, startangle=90, colors = values)\n",
    "ax1.axis('equal')  # Equal aspect ratio ensures that pie is drawn as a circle.\n",
    "texts[0].set_fontsize(18)\n",
    "texts[1].set_fontsize(18)\n",
    "texts[2].set_fontsize(18)\n",
    "pl.savefig('Figure_1_panels/Global_pie.pdf')"
   ]
  },
  {
   "cell_type": "markdown",
   "metadata": {},
   "source": [
    "# Local"
   ]
  },
  {
   "cell_type": "code",
   "execution_count": 91,
   "metadata": {},
   "outputs": [
    {
     "ename": "SyntaxError",
     "evalue": "Missing parentheses in call to 'print'. Did you mean print(n_DP,n_NW,n_SW,n_BT,n_HD,n_other)? (<ipython-input-91-a19d9b125780>, line 11)",
     "output_type": "error",
     "traceback": [
      "\u001b[0;36m  File \u001b[0;32m\"<ipython-input-91-a19d9b125780>\"\u001b[0;36m, line \u001b[0;32m11\u001b[0m\n\u001b[0;31m    print n_DP,n_NW,n_SW,n_BT,n_HD,n_other\u001b[0m\n\u001b[0m             ^\u001b[0m\n\u001b[0;31mSyntaxError\u001b[0m\u001b[0;31m:\u001b[0m Missing parentheses in call to 'print'. Did you mean print(n_DP,n_NW,n_SW,n_BT,n_HD,n_other)?\n"
     ]
    }
   ],
   "source": [
    "n=data.shape[0]\n",
    "\n",
    "n_DP=data.loc[data['local'] == 'DP'].shape[0]\n",
    "n_NW=data.loc[data['local'] == 'Needleman–Wunsch'].shape[0]\n",
    "n_SW=data.loc[data['local'] == 'Smith-Waterman'].shape[0]\n",
    "n_BT=data.loc[data['local'] == 'backtracking'].shape[0]\n",
    "n_HD=data.loc[data['local'] == 'hamming distance'].shape[0]\n",
    "\n",
    "n_other=n-n_DP-n_NW-n_SW-n_BT-n_HD\n",
    "\n",
    "print n_DP,n_NW,n_SW,n_BT,n_HD,n_other"
   ]
  },
  {
   "cell_type": "code",
   "execution_count": 92,
   "metadata": {},
   "outputs": [
    {
     "ename": "NameError",
     "evalue": "name 'n_DP' is not defined",
     "output_type": "error",
     "traceback": [
      "\u001b[0;31m---------------------------------------------------------------------------\u001b[0m",
      "\u001b[0;31mNameError\u001b[0m                                 Traceback (most recent call last)",
      "\u001b[0;32m<ipython-input-92-9b656d39a7e1>\u001b[0m in \u001b[0;36m<module>\u001b[0;34m\u001b[0m\n\u001b[1;32m      3\u001b[0m \u001b[0;31m# Data to plot\u001b[0m\u001b[0;34m\u001b[0m\u001b[0;34m\u001b[0m\u001b[0;34m\u001b[0m\u001b[0m\n\u001b[1;32m      4\u001b[0m \u001b[0mlabels\u001b[0m \u001b[0;34m=\u001b[0m \u001b[0;34m'D.P.'\u001b[0m\u001b[0;34m,\u001b[0m \u001b[0;34m'Needleman-Wunsch'\u001b[0m\u001b[0;34m,\u001b[0m \u001b[0;34m'Smith-Waterman'\u001b[0m\u001b[0;34m,\u001b[0m \u001b[0;34m'Backtracking'\u001b[0m\u001b[0;34m,\u001b[0m\u001b[0;34m'Hamming distance'\u001b[0m\u001b[0;34m,\u001b[0m\u001b[0;34m'Not specicified'\u001b[0m\u001b[0;34m\u001b[0m\u001b[0;34m\u001b[0m\u001b[0m\n\u001b[0;32m----> 5\u001b[0;31m \u001b[0msizes\u001b[0m \u001b[0;34m=\u001b[0m \u001b[0;34m[\u001b[0m\u001b[0mn_DP\u001b[0m\u001b[0;34m,\u001b[0m \u001b[0mn_NW\u001b[0m\u001b[0;34m,\u001b[0m \u001b[0mn_SW\u001b[0m\u001b[0;34m,\u001b[0m \u001b[0mn_BT\u001b[0m\u001b[0;34m,\u001b[0m\u001b[0mn_HD\u001b[0m\u001b[0;34m,\u001b[0m\u001b[0mn_other\u001b[0m\u001b[0;34m]\u001b[0m\u001b[0;34m\u001b[0m\u001b[0;34m\u001b[0m\u001b[0m\n\u001b[0m\u001b[1;32m      6\u001b[0m \u001b[0mcolors\u001b[0m \u001b[0;34m=\u001b[0m \u001b[0;34m[\u001b[0m\u001b[0;34m'gold'\u001b[0m\u001b[0;34m,\u001b[0m \u001b[0;34m'yellowgreen'\u001b[0m\u001b[0;34m,\u001b[0m \u001b[0;34m'lightcoral'\u001b[0m\u001b[0;34m,\u001b[0m \u001b[0;34m'lightskyblue'\u001b[0m\u001b[0;34m,\u001b[0m\u001b[0;34m'grey'\u001b[0m\u001b[0;34m,\u001b[0m\u001b[0;34m'green'\u001b[0m\u001b[0;34m]\u001b[0m\u001b[0;34m\u001b[0m\u001b[0;34m\u001b[0m\u001b[0m\n\u001b[1;32m      7\u001b[0m \u001b[0mexplode\u001b[0m \u001b[0;34m=\u001b[0m \u001b[0;34m(\u001b[0m\u001b[0;36m0\u001b[0m\u001b[0;34m,\u001b[0m \u001b[0;36m0\u001b[0m\u001b[0;34m,\u001b[0m \u001b[0;36m0\u001b[0m\u001b[0;34m,\u001b[0m \u001b[0;36m0\u001b[0m\u001b[0;34m,\u001b[0m\u001b[0;36m0\u001b[0m\u001b[0;34m,\u001b[0m\u001b[0;36m0\u001b[0m\u001b[0;34m)\u001b[0m  \u001b[0;31m# explode 1st slice\u001b[0m\u001b[0;34m\u001b[0m\u001b[0;34m\u001b[0m\u001b[0m\n",
      "\u001b[0;31mNameError\u001b[0m: name 'n_DP' is not defined"
     ]
    }
   ],
   "source": [
    "import matplotlib.pyplot as plt\n",
    " \n",
    "# Data to plot\n",
    "labels = 'D.P.', 'Needleman-Wunsch', 'Smith-Waterman', 'Backtracking','Hamming distance','Not specicified'\n",
    "sizes = [n_DP, n_NW, n_SW, n_BT,n_HD,n_other]\n",
    "colors = ['gold', 'yellowgreen', 'lightcoral', 'lightskyblue','grey','green']\n",
    "explode = (0, 0, 0, 0,0,0)  # explode 1st slice\n",
    "\n",
    "# Plot\n",
    "plt.pie(sizes, explode=explode, labels=labels, colors=colors,\n",
    "autopct='%1.1f%%', shadow=True, startangle=140)\n",
    " \n",
    "plt.axis('equal')\n",
    "plt.savefig('Figure_1_panels/Local_pie.pdf')"
   ]
  },
  {
   "cell_type": "markdown",
   "metadata": {},
   "source": [
    "# Number of citations -- index"
   ]
  },
  {
   "cell_type": "code",
   "execution_count": 107,
   "metadata": {},
   "outputs": [
    {
     "data": {
      "text/plain": [
       "global_alignment_algorithm\n",
       "Backward Search    54511.0\n",
       "chain of seeds      1902.0\n",
       "seed               51860.0\n",
       "seed                  54.0\n",
       "Name: Number_of_citations, dtype: float64"
      ]
     },
     "execution_count": 107,
     "metadata": {},
     "output_type": "execute_result"
    }
   ],
   "source": [
    "data.groupby(['global_alignment_algorithm'])['Number_of_citations'].sum()"
   ]
  },
  {
   "cell_type": "code",
   "execution_count": 104,
   "metadata": {},
   "outputs": [
    {
     "name": "stdout",
     "output_type": "stream",
     "text": [
      "KruskalResult(statistic=2.96620377594013, pvalue=0.08502115449643342)\n",
      "KruskalResult(statistic=0.8414918414918304, pvalue=0.3589704517278517)\n",
      "KruskalResult(statistic=0.08965517241381349, pvalue=0.7646159909705845)\n"
     ]
    },
    {
     "data": {
      "image/png": "[encoded data removed]",
      "text/plain": [
       "<Figure size 432x288 with 1 Axes>"
      ]
     },
     "metadata": {},
     "output_type": "display_data"
    }
   ],
   "source": [
    "import matplotlib.pyplot as plt\n",
    "import seaborn as sns\n",
    "from scipy import stats\n",
    "\n",
    "data_clean=data.loc[data['index'] != 'BWT-ST']\n",
    "data_clean=data_clean.loc[data_clean['index'] != 'suffix tree']\n",
    "\n",
    "\n",
    "\n",
    "g=sns.set_style(\"white\")\n",
    "g=sns.set_context(\"talk\")\n",
    "g=sns.barplot(x=\"index\", y=\"citation_per_year\", data=data_clean,edgecolor=(0.2,0.2,0.2), capsize=0.3,  errwidth=1.5)\n",
    "\n",
    "#g=sns.boxplot(x=\"index\", y=\"citation_per_year\", data=data)\n",
    "#g=sns.swarmplot(x=\"index\", y=\"citation_per_year\", data=data)\n",
    "\n",
    "g.set(xlabel='Indexing technique', ylabel='Number of citations per year')\n",
    "g=sns.despine()\n",
    "plt.xticks(rotation=90)\n",
    "pl.savefig('Figure_1_panels/Citation.per.index.pdf', bbox_inches='tight')\n",
    "\n",
    "\n",
    "\n",
    "\n",
    "p_value1 = stats.kruskal(data[(data['index']=='hashing')].index.tolist(),\n",
    "                         data[(data['index']=='BWT-FM')].index.tolist())\n",
    "\n",
    "p_value2 = stats.kruskal(data[(data['index']=='suffix array')].index.tolist(),\n",
    "                         data[(data['index']=='BWT-FM')].index.tolist())\n",
    "\n",
    "p_value3 = stats.kruskal(data[(data['index']=='suffix array')].index.tolist(),\n",
    "                         data[(data['index']=='hashing')].index.tolist())\n",
    "\n",
    "print (p_value1)\n",
    "print (p_value2)\n",
    "print (p_value3)"
   ]
  },
  {
   "cell_type": "markdown",
   "metadata": {},
   "source": [
    "# Number of citations -- local"
   ]
  },
  {
   "cell_type": "code",
   "execution_count": 13,
   "metadata": {},
   "outputs": [
    {
     "name": "stdout",
     "output_type": "stream",
     "text": [
      "KruskalResult(statistic=22.629644808743137, pvalue=1.964302465428671e-06)\n",
      "KruskalResult(statistic=0.45057471264367166, pvalue=0.502062158789853)\n"
     ]
    },
    {
     "data": {
      "image/png": "[encoded data removed]",
      "text/plain": [
       "<Figure size 432x288 with 1 Axes>"
      ]
     },
     "metadata": {},
     "output_type": "display_data"
    }
   ],
   "source": [
    "import matplotlib.pyplot as plt\n",
    "import seaborn as sns\n",
    "from scipy import stats\n",
    "\n",
    "\n",
    "\n",
    "\n",
    "g=sns.set_style(\"white\")\n",
    "g=sns.set_context(\"talk\")\n",
    "g=sns.barplot(x=\"global\", y=\"citation_per_year\", data=data_clean,edgecolor=(0.2,0.2,0.2), capsize=0.3,  errwidth=1.5)\n",
    "\n",
    "#g=sns.boxplot(x=\"index\", y=\"citation_per_year\", data=data)\n",
    "#g=sns.swarmplot(x=\"index\", y=\"citation_per_year\", data=data)\n",
    "\n",
    "g.set(xlabel='Indexing teachnique', ylabel='Number of citations per year')\n",
    "g=sns.despine()\n",
    "plt.xticks(rotation=90)\n",
    "pl.savefig('Figure_1_panels/Citation.per.global.pdf', bbox_inches='tight')\n",
    "\n",
    "\n",
    "\n",
    "\n",
    "p_value1 = stats.kruskal(data[(data['global']=='Backward Search')].index.tolist(),\n",
    "                         data[(data['global']=='seed')].index.tolist())\n",
    "\n",
    "p_value2 = stats.kruskal(data[(data['global']=='Backward Search')].index.tolist(),\n",
    "                         data[(data['global']=='chain of seeds')].index.tolist())\n",
    "\n",
    "\n",
    "\n",
    "print p_value1\n",
    "print p_value2\n"
   ]
  },
  {
   "cell_type": "code",
   "execution_count": 14,
   "metadata": {},
   "outputs": [
    {
     "name": "stdout",
     "output_type": "stream",
     "text": [
      "KruskalResult(statistic=7.249999999999986, pvalue=0.0070901012238155986)\n",
      "KruskalResult(statistic=9.44642857142857, pvalue=0.0021156065158529974)\n"
     ]
    },
    {
     "data": {
      "image/png": "[encoded data removed]",
      "text/plain": [
       "<Figure size 432x288 with 1 Axes>"
      ]
     },
     "metadata": {},
     "output_type": "display_data"
    }
   ],
   "source": [
    "import matplotlib.pyplot as plt\n",
    "import seaborn as sns\n",
    "from scipy import stats\n",
    "\n",
    "\n",
    "\n",
    "\n",
    "\n",
    "g=sns.set_style(\"white\")\n",
    "g=sns.set_context(\"talk\")\n",
    "g=sns.barplot(x=\"local\", y=\"citation_per_year\", data=data_clean,edgecolor=(0.2,0.2,0.2), capsize=0.3,  errwidth=1.5)\n",
    "\n",
    "#g=sns.boxplot(x=\"index\", y=\"citation_per_year\", data=data)\n",
    "#g=sns.swarmplot(x=\"local\", y=\"citation_per_year\", data=data)\n",
    "\n",
    "g.set(xlabel='Indexing teachnique', ylabel='Number of citations per year')\n",
    "g=sns.despine()\n",
    "plt.xticks(rotation=90)\n",
    "pl.savefig('Figure_1_panels/Citation.per.local.pdf', bbox_inches='tight')\n",
    "\n",
    "\n",
    "\n",
    "\n",
    "p_value1 = stats.kruskal(data[(data['local']=='hamming distance')].index.tolist(),\n",
    "                         data[(data['local']=='Smith-Waterman')].index.tolist())\n",
    "\n",
    "p_value2 = stats.kruskal(data[(data['local']=='backtracking')].index.tolist(),\n",
    "                         data[(data['local']=='Smith-Waterman')].index.tolist())\n",
    "\n",
    "\n",
    "\n",
    "print p_value1\n",
    "print p_value2\n"
   ]
  },
  {
   "cell_type": "markdown",
   "metadata": {},
   "source": [
    "# Technology "
   ]
  },
  {
   "cell_type": "code",
   "execution_count": 15,
   "metadata": {},
   "outputs": [
    {
     "name": "stdout",
     "output_type": "stream",
     "text": [
      "KruskalResult(statistic=0.4031183368870188, pvalue=0.525483196218611)\n"
     ]
    },
    {
     "data": {
      "image/png": "[encoded data removed]",
      "text/plain": [
       "<Figure size 432x288 with 1 Axes>"
      ]
     },
     "metadata": {},
     "output_type": "display_data"
    }
   ],
   "source": [
    "import matplotlib.pyplot as plt\n",
    "import seaborn as sns\n",
    "from scipy import stats\n",
    "\n",
    "\n",
    "g=sns.set_style(\"white\")\n",
    "g=sns.set_context(\"talk\")\n",
    "g=sns.barplot(x=\"technology\", y=\"citation_per_year\", data=data,edgecolor=(0.2,0.2,0.2), \n",
    "            capsize=0.3,  errwidth=1.5)\n",
    "g.set(xlabel='Technology supported', ylabel='Number of citations per year')\n",
    "g=sns.despine()\n",
    "plt.xticks(rotation=90)\n",
    "pl.savefig('Figure_1_panels/Citation.per.domain.pdf', bbox_inches='tight')\n",
    "\n",
    "p_value = stats.kruskal(data[(data.technology=='DNA')].index.tolist(),\n",
    "                         data[(data.technology=='RNA-Seq')].index.tolist())\n",
    "print p_value"
   ]
  },
  {
   "cell_type": "markdown",
   "metadata": {},
   "source": [
    "# Technology by year"
   ]
  },
  {
   "cell_type": "code",
   "execution_count": 16,
   "metadata": {},
   "outputs": [
    {
     "name": "stdout",
     "output_type": "stream",
     "text": [
      "[ 1  2  3  3  5  5  5 12 27 33 39 48 52 58 59 65 65 67]\n",
      "[ 0  0  0  0  0  0  0  1  2  5  6  8 12 13 15 15 16 16]\n",
      "[0 0 0 0 0 0 0 0 2 3 4 5 6 6 6 6 6 6]\n"
     ]
    }
   ],
   "source": [
    "n_tools_DNA=[]\n",
    "n_tools_RNA=[]\n",
    "n_tools_BS=[]\n",
    "\n",
    "\n",
    "\n",
    "for i in range(2001,2019):\n",
    "    df_temp=data[(data.year == i)]\n",
    "    n_tools_DNA.append(df_temp[(df_temp.technology == 'DNA')].shape[0])\n",
    "    n_tools_RNA.append(df_temp[(df_temp.technology == 'RNA-Seq')].shape[0])\n",
    "    n_tools_BS.append(df_temp[(df_temp.technology == 'Bisulfite')].shape[0])\n",
    "    \n",
    "    \n",
    "\n",
    "from numpy import cumsum, ones\n",
    "\n",
    "\n",
    "n_tools_DNA_cumsum=cumsum(n_tools_DNA)\n",
    "n_tools_RNA_cumsum=cumsum(n_tools_RNA)\n",
    "n_tools_BS_cumsum=cumsum(n_tools_BS)\n",
    "\n",
    "print n_tools_DNA_cumsum\n",
    "print n_tools_RNA_cumsum\n",
    "print n_tools_BS_cumsum\n"
   ]
  },
  {
   "cell_type": "code",
   "execution_count": 17,
   "metadata": {},
   "outputs": [
    {
     "data": {
      "image/png": "[encoded data removed]",
      "text/plain": [
       "<Figure size 432x288 with 1 Axes>"
      ]
     },
     "metadata": {},
     "output_type": "display_data"
    }
   ],
   "source": [
    "# library\n",
    "import numpy as np\n",
    "import matplotlib.pyplot as plt\n",
    "import seaborn as sns\n",
    " \n",
    "g=sns.set_style(\"white\")\n",
    "g=sns.set_context(\"talk\")    \n",
    "    \n",
    "# Data\n",
    "x=range(2001,2019)\n",
    "y=[n_tools_RNA_cumsum, n_tools_BS_cumsum,n_tools_DNA_cumsum ]\n",
    " \n",
    "plt.xticks(np.arange(2001, 2019, step=4))\n",
    "plt.yticks(np.arange(0, 110, step=20))   \n",
    "\n",
    "    \n",
    "# Plot\n",
    "plt.stackplot(x,y, labels=['RNA-Seq','BS-Seq','DNA',])\n",
    "plt.legend(loc='upper left')\n",
    "\n",
    "plt.legend(bbox_to_anchor=(0.5,1), frameon=False, ncol=1, handletextpad=0.2, columnspacing=0.8, handlelength=1)\n",
    "\n",
    "g=sns.despine()\n",
    "#plt.show(g)\n",
    "plt.savefig(\"Figure_1_panels/Number.tools.per.domain.pdf\", bbox_inches='tight')"
   ]
  },
  {
   "cell_type": "markdown",
   "metadata": {},
   "source": [
    "# Index by year"
   ]
  },
  {
   "cell_type": "code",
   "execution_count": 18,
   "metadata": {},
   "outputs": [
    {
     "name": "stdout",
     "output_type": "stream",
     "text": [
      "[ 1  2  3  3  5  5  5 11 24 31 36 43 46 49 49 55 55 58]\n",
      "[ 0  0  0  0  0  0  0  1  5  8 10 14 18 21 23 23 24 25]\n",
      "[0 0 0 0 0 0 0 1 2 3 4 4 5 6 6 6 6 6]\n"
     ]
    }
   ],
   "source": [
    "tools_hashing=[]\n",
    "tools_FM=[]\n",
    "tools_suffix=[]\n",
    "\n",
    "\n",
    "\n",
    "for i in range(2001,2019):\n",
    "    df_temp=data[(data.year == i)]\n",
    "    \n",
    "    \n",
    "    n_hash=df_temp.loc[df_temp['index'] == 'hashing'].shape[0]\n",
    "    n_FM=df_temp.loc[df_temp['index'] == 'BWT-FM'].shape[0]\n",
    "    n_suffix=df_temp.loc[df_temp['index'] == 'suffix array'].shape[0]\n",
    "    \n",
    "    tools_hashing.append(n_hash)\n",
    "    tools_FM.append(n_FM)\n",
    "    tools_suffix.append(n_suffix)\n",
    "    \n",
    "    \n",
    "\n",
    "from numpy import cumsum, ones\n",
    "\n",
    "\n",
    "tools_hashing_cumsum=cumsum(tools_hashing)\n",
    "tools_FM_cumsum=cumsum(tools_FM)\n",
    "tools_suffix_cumsum=cumsum(tools_suffix)\n",
    "\n",
    "print tools_hashing_cumsum\n",
    "print tools_FM_cumsum\n",
    "print tools_suffix_cumsum\n"
   ]
  },
  {
   "cell_type": "code",
   "execution_count": 80,
   "metadata": {},
   "outputs": [
    {
     "ename": "NameError",
     "evalue": "name 'tools_FM_cumsum' is not defined",
     "output_type": "error",
     "traceback": [
      "\u001b[0;31m---------------------------------------------------------------------------\u001b[0m",
      "\u001b[0;31mNameError\u001b[0m                                 Traceback (most recent call last)",
      "\u001b[0;32m<ipython-input-80-4788b7b1b6a0>\u001b[0m in \u001b[0;36m<module>\u001b[0;34m\u001b[0m\n\u001b[1;32m      9\u001b[0m \u001b[0;31m# Data\u001b[0m\u001b[0;34m\u001b[0m\u001b[0;34m\u001b[0m\u001b[0;34m\u001b[0m\u001b[0m\n\u001b[1;32m     10\u001b[0m \u001b[0mx\u001b[0m\u001b[0;34m=\u001b[0m\u001b[0mrange\u001b[0m\u001b[0;34m(\u001b[0m\u001b[0;36m2001\u001b[0m\u001b[0;34m,\u001b[0m\u001b[0;36m2019\u001b[0m\u001b[0;34m)\u001b[0m\u001b[0;34m\u001b[0m\u001b[0;34m\u001b[0m\u001b[0m\n\u001b[0;32m---> 11\u001b[0;31m \u001b[0my\u001b[0m\u001b[0;34m=\u001b[0m\u001b[0;34m[\u001b[0m\u001b[0mtools_FM_cumsum\u001b[0m\u001b[0;34m,\u001b[0m \u001b[0mtools_suffix_cumsum\u001b[0m\u001b[0;34m,\u001b[0m\u001b[0mtools_hashing_cumsum\u001b[0m \u001b[0;34m]\u001b[0m\u001b[0;34m\u001b[0m\u001b[0;34m\u001b[0m\u001b[0m\n\u001b[0m\u001b[1;32m     12\u001b[0m \u001b[0;34m\u001b[0m\u001b[0m\n\u001b[1;32m     13\u001b[0m \u001b[0mplt\u001b[0m\u001b[0;34m.\u001b[0m\u001b[0mxticks\u001b[0m\u001b[0;34m(\u001b[0m\u001b[0mnp\u001b[0m\u001b[0;34m.\u001b[0m\u001b[0marange\u001b[0m\u001b[0;34m(\u001b[0m\u001b[0;36m2001\u001b[0m\u001b[0;34m,\u001b[0m \u001b[0;36m2019\u001b[0m\u001b[0;34m,\u001b[0m \u001b[0mstep\u001b[0m\u001b[0;34m=\u001b[0m\u001b[0;36m4\u001b[0m\u001b[0;34m)\u001b[0m\u001b[0;34m)\u001b[0m\u001b[0;34m\u001b[0m\u001b[0;34m\u001b[0m\u001b[0m\n",
      "\u001b[0;31mNameError\u001b[0m: name 'tools_FM_cumsum' is not defined"
     ]
    }
   ],
   "source": [
    "# library\n",
    "import numpy as np\n",
    "import matplotlib.pyplot as plt\n",
    "import seaborn as sns\n",
    " \n",
    "g=sns.set_style(\"white\")\n",
    "g=sns.set_context(\"talk\")    \n",
    "    \n",
    "# Data\n",
    "x=range(2001,2019)\n",
    "y=[tools_FM_cumsum, tools_suffix_cumsum,tools_hashing_cumsum ]\n",
    " \n",
    "plt.xticks(np.arange(2001, 2019, step=4))\n",
    "plt.yticks(np.arange(0, 110, step=20))   \n",
    "\n",
    "    \n",
    "# Plot\n",
    "plt.stackplot(x,y, labels=['BWT-FM','General Suffix tree','hashing'])\n",
    "plt.legend(loc='upper left')\n",
    "\n",
    "plt.legend(bbox_to_anchor=(0.5,1), frameon=False, ncol=1, handletextpad=0.2, columnspacing=0.8, handlelength=1)\n",
    "\n",
    "g=sns.despine()\n",
    "#plt.show(g)\n",
    "\n",
    "\n",
    "plt.savefig(\"Figure_1_panels/Number.tools.per.index.pdf\")\n"
   ]
  },
  {
   "cell_type": "code",
   "execution_count": 20,
   "metadata": {},
   "outputs": [
    {
     "ename": "ImportError",
     "evalue": "No module named pysankey",
     "output_type": "error",
     "traceback": [
      "\u001b[0;31m---------------------------------------------------------------------------\u001b[0m",
      "\u001b[0;31mImportError\u001b[0m                               Traceback (most recent call last)",
      "\u001b[0;32m<ipython-input-20-494ee90455db>\u001b[0m in \u001b[0;36m<module>\u001b[0;34m()\u001b[0m\n\u001b[1;32m      1\u001b[0m \u001b[0;32mimport\u001b[0m \u001b[0mpandas\u001b[0m \u001b[0;32mas\u001b[0m \u001b[0mpd\u001b[0m\u001b[0;34m\u001b[0m\u001b[0m\n\u001b[0;32m----> 2\u001b[0;31m \u001b[0;32mfrom\u001b[0m \u001b[0mpysankey\u001b[0m \u001b[0;32mimport\u001b[0m \u001b[0msankey\u001b[0m\u001b[0;34m\u001b[0m\u001b[0m\n\u001b[0m\u001b[1;32m      3\u001b[0m \u001b[0;34m\u001b[0m\u001b[0m\n\u001b[1;32m      4\u001b[0m \u001b[0mpd\u001b[0m\u001b[0;34m.\u001b[0m\u001b[0moptions\u001b[0m\u001b[0;34m.\u001b[0m\u001b[0mdisplay\u001b[0m\u001b[0;34m.\u001b[0m\u001b[0mmax_rows\u001b[0m \u001b[0;34m=\u001b[0m \u001b[0;36m8\u001b[0m\u001b[0;34m\u001b[0m\u001b[0m\n\u001b[1;32m      5\u001b[0m df = pd.read_csv(\n",
      "\u001b[0;31mImportError\u001b[0m: No module named pysankey"
     ]
    }
   ],
   "source": [
    "import pandas as pd\n",
    "from pysankey import sankey\n",
    "\n",
    "pd.options.display.max_rows = 8\n",
    "df = pd.read_csv(\n",
    "    'pysankey/fruits.txt', sep=' ', names=['true', 'predicted']\n",
    ")\n",
    "colorDict = {\n",
    "    'apple':'#f71b1b',\n",
    "    'blueberry':'#1b7ef7',\n",
    "    'banana':'#f3f71b',\n",
    "    'lime':'#12e23f',\n",
    "    'orange':'#f78c1b'\n",
    "}\n",
    "sankey(\n",
    "    df['true'], df['predicted'], aspect=20, colorDict=colorDict,\n",
    "    fontsize=12, figureName=\"fruit\"\n",
    ")\n",
    "# Result is in \"fruit.png\""
   ]
  },
  {
   "cell_type": "code",
   "execution_count": null,
   "metadata": {},
   "outputs": [],
   "source": []
  },
  {
   "cell_type": "code",
   "execution_count": null,
   "metadata": {},
   "outputs": [],
   "source": []
  },
  {
   "cell_type": "code",
   "execution_count": null,
   "metadata": {},
   "outputs": [],
   "source": []
  },
  {
   "cell_type": "code",
   "execution_count": null,
   "metadata": {},
   "outputs": [],
   "source": []
  }
 ],
 "metadata": {
  "kernelspec": {
   "display_name": "Python 3",
   "language": "python",
   "name": "python3"
  },
  "language_info": {
   "codemirror_mode": {
    "name": "ipython",
    "version": 3
   },
   "file_extension": ".py",
   "mimetype": "text/x-python",
   "name": "python",
   "nbconvert_exporter": "python",
   "pygments_lexer": "ipython3",
   "version": "3.7.1"
  }
 },
 "nbformat": 4,
 "nbformat_minor": 2
}
